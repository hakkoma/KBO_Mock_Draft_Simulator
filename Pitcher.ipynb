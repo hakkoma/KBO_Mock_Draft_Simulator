{
 "cells": [
  {
   "cell_type": "code",
   "execution_count": 2,
   "metadata": {},
   "outputs": [
    {
     "name": "stdout",
     "output_type": "stream",
     "text": [
      "<class 'pandas.core.frame.DataFrame'>\n",
      "RangeIndex: 233 entries, 0 to 232\n",
      "Data columns (total 20 columns):\n",
      "순위        233 non-null int64\n",
      "이름(팀명)    233 non-null object\n",
      "경기        233 non-null int64\n",
      "승         233 non-null int64\n",
      "패         233 non-null int64\n",
      "세이브       233 non-null int64\n",
      "이닝        233 non-null float64\n",
      "타자        233 non-null int64\n",
      "타수        233 non-null int64\n",
      "피안타       233 non-null int64\n",
      "피홈        233 non-null int64\n",
      "희생        233 non-null int64\n",
      "4구        233 non-null int64\n",
      "사구        233 non-null int64\n",
      "삼진        233 non-null int64\n",
      "실점        233 non-null int64\n",
      "자책        233 non-null int64\n",
      "투구        233 non-null int64\n",
      "S         233 non-null int64\n",
      "방어율       233 non-null float64\n",
      "dtypes: float64(2), int64(17), object(1)\n",
      "memory usage: 36.5+ KB\n"
     ]
    }
   ],
   "source": [
    "import pandas as pd\n",
    "import numpy as np\n",
    "\n",
    "#Import data\n",
    "df = pd.read_csv('2017pitcher.csv')\n",
    "df.info()"
   ]
  },
  {
   "cell_type": "code",
   "execution_count": 3,
   "metadata": {},
   "outputs": [
    {
     "data": {
      "text/plain": [
       "순위        0\n",
       "이름(팀명)    0\n",
       "경기        0\n",
       "승         0\n",
       "패         0\n",
       "세이브       0\n",
       "이닝        0\n",
       "타자        0\n",
       "타수        0\n",
       "피안타       0\n",
       "피홈        0\n",
       "희생        0\n",
       "4구        0\n",
       "사구        0\n",
       "삼진        0\n",
       "실점        0\n",
       "자책        0\n",
       "투구        0\n",
       "S         0\n",
       "방어율       0\n",
       "dtype: int64"
      ]
     },
     "execution_count": 3,
     "metadata": {},
     "output_type": "execute_result"
    }
   ],
   "source": [
    "#check missing value\n",
    "df.isnull().sum()"
   ]
  },
  {
   "cell_type": "code",
   "execution_count": null,
   "metadata": {},
   "outputs": [],
   "source": [
    "df -"
   ]
  }
 ],
 "metadata": {
  "kernelspec": {
   "display_name": "Python 3",
   "language": "python",
   "name": "python3"
  },
  "language_info": {
   "codemirror_mode": {
    "name": "ipython",
    "version": 3
   },
   "file_extension": ".py",
   "mimetype": "text/x-python",
   "name": "python",
   "nbconvert_exporter": "python",
   "pygments_lexer": "ipython3",
   "version": "3.6.5"
  }
 },
 "nbformat": 4,
 "nbformat_minor": 2
}
