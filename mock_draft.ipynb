{
 "cells": [
  {
   "cell_type": "markdown",
   "metadata": {},
   "source": [
    "# 2018 KBO Mock Rookie Draft\n",
    "\n",
    "## 1. 타자(wOBA)\n",
    "\n",
    "## 2. 투수(FIP)\n",
    "\n",
    "## 3. 투타통합(WAR)\n",
    "    3.1 투수의 WAR은 fWAR을 기준으로 설정한다.\n",
    "    3.2 타자의 WAR은 wOBA를 기준으로 설정한다.\n",
    "    \n",
    "## 4. 2018 KBO 신인 드래프트와의 비교\n",
    "\n",
    "** References<br/> **\n",
    "https://en.wikipedia.org/wiki/WOBA<br>\n",
    "http://ko.yagongso.wikidok.net/wp-d/59e0e5f411f7fa6a3ea5545a/View\n",
    "https://namu.wiki/w/WAR\n",
    "https://namu.wiki/w/KBO%20%EB%A6%AC%EA%B7%B8/2018%EB%85%84/%EC%8B%A0%EC%9D%B8%EB%93%9C%EB%9E%98%ED%94%84%ED%8A%B8\n",
    "\n"
   ]
  },
  {
   "cell_type": "markdown",
   "metadata": {},
   "source": [
    "## 1. 타자 (wOBA)"
   ]
  },
  {
   "cell_type": "code",
   "execution_count": 1,
   "metadata": {},
   "outputs": [
    {
     "name": "stdout",
     "output_type": "stream",
     "text": [
      "<class 'pandas.core.frame.DataFrame'>\n",
      "RangeIndex: 619 entries, 0 to 618\n",
      "Data columns (total 17 columns):\n",
      "순위     619 non-null int64\n",
      "이름     619 non-null object\n",
      "경기     619 non-null int64\n",
      "타율     619 non-null float64\n",
      "타석     619 non-null int64\n",
      "타수     619 non-null int64\n",
      "안타     619 non-null int64\n",
      "2루타    619 non-null int64\n",
      "3루타    619 non-null int64\n",
      "홈런     619 non-null int64\n",
      "타점     619 non-null int64\n",
      "득점     619 non-null int64\n",
      "사사구    619 non-null int64\n",
      "삼진     619 non-null int64\n",
      "출루율    619 non-null float64\n",
      "장타율    619 non-null float64\n",
      "도루     619 non-null int64\n",
      "dtypes: float64(3), int64(13), object(1)\n",
      "memory usage: 82.3+ KB\n"
     ]
    }
   ],
   "source": [
    "import pandas as pd\n",
    "import numpy as np\n",
    "import matplotlib as plt\n",
    "\n",
    "#Import data\n",
    "hitter = pd.read_csv('stat/2017hitter.csv')\n",
    "hitter.info()"
   ]
  },
  {
   "cell_type": "markdown",
   "metadata": {},
   "source": [
    "### Data Cleaning for Hitter "
   ]
  },
  {
   "cell_type": "code",
   "execution_count": 2,
   "metadata": {},
   "outputs": [
    {
     "data": {
      "text/plain": [
       "순위     0\n",
       "이름     0\n",
       "경기     0\n",
       "타율     0\n",
       "타석     0\n",
       "타수     0\n",
       "안타     0\n",
       "2루타    0\n",
       "3루타    0\n",
       "홈런     0\n",
       "타점     0\n",
       "득점     0\n",
       "사사구    0\n",
       "삼진     0\n",
       "출루율    0\n",
       "장타율    0\n",
       "도루     0\n",
       "dtype: int64"
      ]
     },
     "execution_count": 2,
     "metadata": {},
     "output_type": "execute_result"
    }
   ],
   "source": [
    "#check missing value\n",
    "hitter.isnull().sum()"
   ]
  },
  {
   "cell_type": "markdown",
   "metadata": {},
   "source": [
    "규정타석을 채우지 못한 타자들을 거를 필요가 있다 <br/>\n",
    "\n",
    "2017년 기준\n",
    "* 전반기 주말리그 7경기\n",
    "* 후반기 주말리그 7경기\n",
    "* 황금사자기\n",
    "* 청룡선수권\n",
    "* 대통령배\n",
    "* 봉황대기\n",
    "* 전국체전 \n",
    "\n",
    "전국체전을 제외한 대회를 각각 2경기를 평균으로 해서 총 19경기를 소속팀 평균 경기수로 계산했다\n",
    "\n",
    "규정타석 : 소속팀 경기수 x 0.8 x 3 = 62.4타석 <br/>\n",
    "http://www.hsbaseball.kr/board/bbs_cmu_read.php?idxno=972&menu_idxno=11&page=31&search_item=&search_word=&category="
   ]
  },
  {
   "cell_type": "code",
   "execution_count": 3,
   "metadata": {},
   "outputs": [
    {
     "data": {
      "text/plain": [
       "(339, 17)"
      ]
     },
     "execution_count": 3,
     "metadata": {},
     "output_type": "execute_result"
    }
   ],
   "source": [
    "hitter = hitter[hitter['타석'] >= 62.4]\n",
    "hitter.shape"
   ]
  },
  {
   "cell_type": "code",
   "execution_count": 4,
   "metadata": {},
   "outputs": [
    {
     "data": {
      "text/html": [
       "<div>\n",
       "<style scoped>\n",
       "    .dataframe tbody tr th:only-of-type {\n",
       "        vertical-align: middle;\n",
       "    }\n",
       "\n",
       "    .dataframe tbody tr th {\n",
       "        vertical-align: top;\n",
       "    }\n",
       "\n",
       "    .dataframe thead th {\n",
       "        text-align: right;\n",
       "    }\n",
       "</style>\n",
       "<table border=\"1\" class=\"dataframe\">\n",
       "  <thead>\n",
       "    <tr style=\"text-align: right;\">\n",
       "      <th></th>\n",
       "      <th>순위</th>\n",
       "      <th>이름</th>\n",
       "      <th>경기</th>\n",
       "      <th>타율</th>\n",
       "      <th>타석</th>\n",
       "      <th>타수</th>\n",
       "      <th>안타</th>\n",
       "      <th>단타</th>\n",
       "      <th>2루타</th>\n",
       "      <th>3루타</th>\n",
       "      <th>홈런</th>\n",
       "      <th>타점</th>\n",
       "      <th>득점</th>\n",
       "      <th>사사구</th>\n",
       "      <th>삼진</th>\n",
       "      <th>출루율</th>\n",
       "      <th>장타율</th>\n",
       "      <th>도루</th>\n",
       "    </tr>\n",
       "  </thead>\n",
       "  <tbody>\n",
       "    <tr>\n",
       "      <th>2</th>\n",
       "      <td>3</td>\n",
       "      <td>배지환(경북고)</td>\n",
       "      <td>27</td>\n",
       "      <td>0.474</td>\n",
       "      <td>120</td>\n",
       "      <td>95</td>\n",
       "      <td>45</td>\n",
       "      <td>36</td>\n",
       "      <td>3</td>\n",
       "      <td>5</td>\n",
       "      <td>1</td>\n",
       "      <td>17</td>\n",
       "      <td>31</td>\n",
       "      <td>20</td>\n",
       "      <td>10</td>\n",
       "      <td>0.556</td>\n",
       "      <td>0.642</td>\n",
       "      <td>30</td>\n",
       "    </tr>\n",
       "    <tr>\n",
       "      <th>8</th>\n",
       "      <td>9</td>\n",
       "      <td>강백호(서울고)</td>\n",
       "      <td>31</td>\n",
       "      <td>0.434</td>\n",
       "      <td>133</td>\n",
       "      <td>106</td>\n",
       "      <td>46</td>\n",
       "      <td>30</td>\n",
       "      <td>13</td>\n",
       "      <td>0</td>\n",
       "      <td>3</td>\n",
       "      <td>34</td>\n",
       "      <td>37</td>\n",
       "      <td>27</td>\n",
       "      <td>10</td>\n",
       "      <td>0.549</td>\n",
       "      <td>0.642</td>\n",
       "      <td>10</td>\n",
       "    </tr>\n",
       "    <tr>\n",
       "      <th>9</th>\n",
       "      <td>10</td>\n",
       "      <td>성영래(진흥고)</td>\n",
       "      <td>20</td>\n",
       "      <td>0.433</td>\n",
       "      <td>79</td>\n",
       "      <td>67</td>\n",
       "      <td>29</td>\n",
       "      <td>21</td>\n",
       "      <td>6</td>\n",
       "      <td>2</td>\n",
       "      <td>0</td>\n",
       "      <td>15</td>\n",
       "      <td>12</td>\n",
       "      <td>5</td>\n",
       "      <td>7</td>\n",
       "      <td>0.466</td>\n",
       "      <td>0.582</td>\n",
       "      <td>2</td>\n",
       "    </tr>\n",
       "    <tr>\n",
       "      <th>10</th>\n",
       "      <td>11</td>\n",
       "      <td>전영수(서울디자인고)</td>\n",
       "      <td>17</td>\n",
       "      <td>0.431</td>\n",
       "      <td>63</td>\n",
       "      <td>51</td>\n",
       "      <td>22</td>\n",
       "      <td>17</td>\n",
       "      <td>3</td>\n",
       "      <td>1</td>\n",
       "      <td>1</td>\n",
       "      <td>4</td>\n",
       "      <td>12</td>\n",
       "      <td>11</td>\n",
       "      <td>12</td>\n",
       "      <td>0.524</td>\n",
       "      <td>0.588</td>\n",
       "      <td>11</td>\n",
       "    </tr>\n",
       "    <tr>\n",
       "      <th>11</th>\n",
       "      <td>12</td>\n",
       "      <td>김지훈(송탄제일고)</td>\n",
       "      <td>18</td>\n",
       "      <td>0.424</td>\n",
       "      <td>79</td>\n",
       "      <td>66</td>\n",
       "      <td>28</td>\n",
       "      <td>26</td>\n",
       "      <td>1</td>\n",
       "      <td>1</td>\n",
       "      <td>0</td>\n",
       "      <td>8</td>\n",
       "      <td>18</td>\n",
       "      <td>11</td>\n",
       "      <td>7</td>\n",
       "      <td>0.494</td>\n",
       "      <td>0.470</td>\n",
       "      <td>25</td>\n",
       "    </tr>\n",
       "  </tbody>\n",
       "</table>\n",
       "</div>"
      ],
      "text/plain": [
       "    순위           이름  경기     타율   타석   타수  안타  단타  2루타  3루타  홈런  타점  득점  사사구  \\\n",
       "2    3     배지환(경북고)  27  0.474  120   95  45  36    3    5   1  17  31   20   \n",
       "8    9     강백호(서울고)  31  0.434  133  106  46  30   13    0   3  34  37   27   \n",
       "9   10     성영래(진흥고)  20  0.433   79   67  29  21    6    2   0  15  12    5   \n",
       "10  11  전영수(서울디자인고)  17  0.431   63   51  22  17    3    1   1   4  12   11   \n",
       "11  12   김지훈(송탄제일고)  18  0.424   79   66  28  26    1    1   0   8  18   11   \n",
       "\n",
       "    삼진    출루율    장타율  도루  \n",
       "2   10  0.556  0.642  30  \n",
       "8   10  0.549  0.642  10  \n",
       "9    7  0.466  0.582   2  \n",
       "10  12  0.524  0.588  11  \n",
       "11   7  0.494  0.470  25  "
      ]
     },
     "execution_count": 4,
     "metadata": {},
     "output_type": "execute_result"
    }
   ],
   "source": [
    "#단타 지표 추가\n",
    "hitter['단타'] = hitter.apply(lambda x: x[6] - (x[7] + x[8] +x[9]), axis=1)\n",
    "col_names = ['순위','이름','경기','타율','타석','타수','안타','단타','2루타','3루타','홈런','타점','득점','사사구','삼진','출루율','장타율','도루']\n",
    "hitter = hitter.reindex(columns=col_names)\n",
    "hitter.head()"
   ]
  },
  {
   "cell_type": "markdown",
   "metadata": {},
   "source": [
    "### TOP 10 HITTERS by wOBA"
   ]
  },
  {
   "cell_type": "code",
   "execution_count": 5,
   "metadata": {},
   "outputs": [],
   "source": [
    "#타자 종합지표 wOBA도입\n",
    "hitter['wOBA'] = hitter.apply(lambda x: (0.735*x[13] + 0.9*x[7] + 1.24*x[8] + 1.56*x[9] + 1.95*x[10])/x[5], axis=1)\n",
    "hitter = hitter.sort_values(by='wOBA',ascending=0)\n",
    "\n",
    "hitter['wOBA'] = round(hitter['wOBA'],3)"
   ]
  },
  {
   "cell_type": "markdown",
   "metadata": {},
   "source": [
    "## 2. 투수 (FIP)"
   ]
  },
  {
   "cell_type": "code",
   "execution_count": 6,
   "metadata": {},
   "outputs": [
    {
     "name": "stdout",
     "output_type": "stream",
     "text": [
      "<class 'pandas.core.frame.DataFrame'>\n",
      "RangeIndex: 233 entries, 0 to 232\n",
      "Data columns (total 20 columns):\n",
      "순위        233 non-null int64\n",
      "이름(팀명)    233 non-null object\n",
      "경기        233 non-null int64\n",
      "승         233 non-null int64\n",
      "패         233 non-null int64\n",
      "세이브       233 non-null int64\n",
      "이닝        233 non-null float64\n",
      "타자        233 non-null int64\n",
      "타수        233 non-null int64\n",
      "피안타       233 non-null int64\n",
      "피홈        233 non-null int64\n",
      "희생        233 non-null int64\n",
      "4구        233 non-null int64\n",
      "사구        233 non-null int64\n",
      "삼진        233 non-null int64\n",
      "실점        233 non-null int64\n",
      "자책        233 non-null int64\n",
      "투구        233 non-null int64\n",
      "S         233 non-null int64\n",
      "방어율       233 non-null float64\n",
      "dtypes: float64(2), int64(17), object(1)\n",
      "memory usage: 36.5+ KB\n"
     ]
    }
   ],
   "source": [
    "pitcher = pd.read_csv('stat/2017pitcher.csv')\n",
    "pitcher.info()"
   ]
  },
  {
   "cell_type": "markdown",
   "metadata": {},
   "source": [
    "### Data Cleaning for Pitcher "
   ]
  },
  {
   "cell_type": "code",
   "execution_count": 7,
   "metadata": {},
   "outputs": [
    {
     "data": {
      "text/plain": [
       "순위        0\n",
       "이름(팀명)    0\n",
       "경기        0\n",
       "승         0\n",
       "패         0\n",
       "세이브       0\n",
       "이닝        0\n",
       "타자        0\n",
       "타수        0\n",
       "피안타       0\n",
       "피홈        0\n",
       "희생        0\n",
       "4구        0\n",
       "사구        0\n",
       "삼진        0\n",
       "실점        0\n",
       "자책        0\n",
       "투구        0\n",
       "S         0\n",
       "방어율       0\n",
       "dtype: int64"
      ]
     },
     "execution_count": 7,
     "metadata": {},
     "output_type": "execute_result"
    }
   ],
   "source": [
    "pitcher.isnull().sum()"
   ]
  },
  {
   "cell_type": "markdown",
   "metadata": {},
   "source": [
    "규정이닝 : 소속팀 경기수(26) x 0.8 = 20.8이닝 <br/>"
   ]
  },
  {
   "cell_type": "code",
   "execution_count": 8,
   "metadata": {},
   "outputs": [
    {
     "data": {
      "text/plain": [
       "(86, 20)"
      ]
     },
     "execution_count": 8,
     "metadata": {},
     "output_type": "execute_result"
    }
   ],
   "source": [
    "pitcher = pitcher[pitcher['이닝'] >= 40]\n",
    "pitcher.shape"
   ]
  },
  {
   "cell_type": "markdown",
   "metadata": {},
   "source": [
    "**FIP  = { ( 13 x 홈런 ) + ( 3 x 볼넷 ) – ( 2 x 삼진 ) } / 이닝 + cFIP **"
   ]
  },
  {
   "cell_type": "markdown",
   "metadata": {},
   "source": [
    "### TOP 10 PITCHERS BY FIP"
   ]
  },
  {
   "cell_type": "code",
   "execution_count": 9,
   "metadata": {},
   "outputs": [],
   "source": [
    "#FIP = { ( 13 x HR ) + ( 3 x BB ) – ( 2 x K ) } / 이닝 + cFIP\n",
    "\n",
    "pitcher['FIP'] = pitcher.apply(lambda x: ( (13*x[10] + 3*x[12]) - 2*x[14])/ x[6] + 3.16, axis=1)\n",
    "pitcher = pitcher.sort_values(by='FIP',ascending=True)\n",
    "\n",
    "pitcher['FIP'] = round(pitcher['FIP'],3)"
   ]
  },
  {
   "cell_type": "markdown",
   "metadata": {},
   "source": [
    "## 3. 투타통합 (WAR 기준)"
   ]
  },
  {
   "cell_type": "code",
   "execution_count": 10,
   "metadata": {},
   "outputs": [
    {
     "data": {
      "image/png": "[encoded data removed]",
      "text/plain": [
       "<IPython.core.display.Image object>"
      ]
     },
     "execution_count": 10,
     "metadata": {
      "image/png": {
       "width": 300
      }
     },
     "output_type": "execute_result"
    }
   ],
   "source": [
    "from IPython.display import Image\n",
    "Image(filename = \"/Users/sunkyukim/Desktop/war_pitcher.png\", width = 300)"
   ]
  },
  {
   "cell_type": "markdown",
   "metadata": {},
   "source": [
    "WAR를 통한 선수가치는 위의 표와 같이 통상적으로 매겨지며, 리그 성격,경기수등에 따른 변수들에 의해 차이는 있다."
   ]
  },
  {
   "cell_type": "markdown",
   "metadata": {},
   "source": [
    "### 3.1) 투수의 WAR은 fWAR을 기준으로 설정한다\n",
    "\n",
    "#### 3.1.1) RA(평균실점)\n",
    "\n",
    "lgERA(리그평균자책점) = 리그자책점 / 리그경기(리그이닝수/9) <br>\n",
    "lgRA(리그실점) = 리그실점 / 리그경기(리그이닝수/9) <br>\n",
    "RAscale = lgERA / lgRA\n",
    "\n",
    "RA = FIP / RAscale\n",
    "\n",
    "#### 3.1.2) pR/W(1승에 해당하는 점수)\n",
    "\n",
    "pR/W = [{9 * lgRA + IP/GS * RA + (9 - IP/GS) * lgRA} / 18 + 2] * 1.5\n",
    "\n",
    "lgRA : 경기당 리그평균실점\n",
    "\n",
    "IP/GS : 경기당 이닝 \n",
    "\n",
    "#### 3.1.3) 피타고리안 기대승률(W%)\n",
    "\n",
    "W% = {( lgRA/9 - RA) / pR/W} + .500\n",
    "\n",
    "#### 3.1.4) 대체선수대비 기대 승률\n",
    "\n",
    "대체선수대비 기대 승률 = W% - 0.380\n",
    "\n",
    "\n",
    "#### 3.1.5) fWAR\n",
    "\n",
    "fWAR = (대체 선수 대비 기대 승률) * IP/GS\n",
    "\n",
    "\n",
    "http://www.kbreport.com/common/statDic/pitchingWAR\n",
    "\n"
   ]
  },
  {
   "cell_type": "markdown",
   "metadata": {},
   "source": [
    "#### 3.1.1) RA(평균실점)"
   ]
  },
  {
   "cell_type": "code",
   "execution_count": 11,
   "metadata": {},
   "outputs": [
    {
     "name": "stdout",
     "output_type": "stream",
     "text": [
      "lgRA =  4.197607178464606\n",
      "lgERA =  3.119042871385843\n",
      "RAscale =  0.7430525865754597\n"
     ]
    }
   ],
   "source": [
    "#리그평균실점(lgRA), 평균자책점(lgERA), RAscale\n",
    "\n",
    "lgRA = np.sum(pitcher['실점']) / (np.sum(pitcher['이닝'] / 9))\n",
    "lgERA = np.sum(pitcher['자책']) / (np.sum(pitcher['이닝'] / 9))\n",
    "RAscale = lgERA / lgRA\n",
    "\n",
    "print('lgRA = ',lgRA)\n",
    "print('lgERA = ',lgERA)\n",
    "print('RAscale = ',RAscale)"
   ]
  },
  {
   "cell_type": "code",
   "execution_count": 12,
   "metadata": {},
   "outputs": [],
   "source": [
    "pitcher['RA'] = pitcher.apply(lambda x: x[20]/RAscale, axis=1)\n",
    "pitcher['RA'] = round(pitcher['RA'],3)"
   ]
  },
  {
   "cell_type": "markdown",
   "metadata": {},
   "source": [
    "#### 3.1.2) pR/W(1승에 해당하는 점수)"
   ]
  },
  {
   "cell_type": "code",
   "execution_count": 13,
   "metadata": {},
   "outputs": [],
   "source": [
    "pitcher['pR/W'] = pitcher.apply(lambda x: ((9 * lgRA + (x[6]/x[2]) * (x[20] / RAscale) + (9 - (x[6]/x[2])) * lgRA) / 18 + 2) * 1.5, axis=1 )\n",
    "pitcher['pR/W'] = round(pitcher['pR/W'],3)"
   ]
  },
  {
   "cell_type": "markdown",
   "metadata": {},
   "source": [
    "#### 3.1.3) 피타고리안 기대승률(W%)"
   ]
  },
  {
   "cell_type": "code",
   "execution_count": 14,
   "metadata": {},
   "outputs": [],
   "source": [
    "pitcher['W%'] = pitcher.apply(lambda x: ((lgRA - x[21]) / x[22]) + .500, axis=1 )\n",
    "pitcher['W%'] = round(pitcher['W%'],3)"
   ]
  },
  {
   "cell_type": "markdown",
   "metadata": {},
   "source": [
    "#### 3.1.4) 대체선수대비 기대승률(wW%)"
   ]
  },
  {
   "cell_type": "code",
   "execution_count": 15,
   "metadata": {},
   "outputs": [],
   "source": [
    "pitcher['wW%'] = pitcher.apply(lambda x: x[23] - .380, axis=1 )\n",
    "pitcher['wW%'] = round(pitcher['wW%'],3)"
   ]
  },
  {
   "cell_type": "markdown",
   "metadata": {},
   "source": [
    "#### 3.1.5) Pitcher WAR(fWAR)"
   ]
  },
  {
   "cell_type": "markdown",
   "metadata": {},
   "source": [
    "fWAR을 기준으로 했을때 **최민준,신민혁,김범수,윤강찬,이승헌** 순으로 정상급 투수들로 분류되었다. \n",
    "\n",
    "MLB WAR 스케일의 기준으로는 Solid Player 혹은 Good Player 수준으로 분류 되었다.\n",
    "\n",
    "하지만 위 자료의 MLB의 기준이므로 보정의 필요가 있다.\n",
    "\n",
    "Ref: https://namu.wiki/w/WAR"
   ]
  },
  {
   "cell_type": "markdown",
   "metadata": {},
   "source": [
    "### 3.2) 타자의 WAR은 wOBA를 기준으로 설정한다\n",
    "\n",
    "#### 3.2.1) Batting RAR(Runs Above Replacement level)\n",
    "    \n",
    "- wRAA = ((wOBA - 리그평균 wOBA) / wOBA Scale) * 타석\n",
    "* RAR = RAA + 20 (PA / 600)\n",
    "\n",
    "\n",
    "wOBA를 출루율 스케일로 나타내기 위해 각 이벤트(볼넷, HBP, 1루타, 2루타, 3루타, 홈런)에 곱하는 값. 이 역시 매 시즌 값이 변경되며 2012시즌 wOBA스케일은 1.245다. wOBA를 구할때 인위적으로 곱했기 때문에 다시 나누는 것. 참고로 이것도 톰 탱고의 The Book에 나온 오리지날 수치가 있는데 바로 1.15다\n",
    "\n",
    "- RAR = 타격에서의 기여도(BRAR)\n",
    "\n",
    "해당 지표에서는 타격에 대한 기여도만 고려할 수 있는 상황으로 나머지 지표는 제외한다.<br>\n",
    "(기존은 RAR = (타격에서의 기여도(BRAR)) + (수비에서의 기여도) + (포지션에 따른 조정) + (주루에서의 기여도))\n",
    "\n",
    "\n",
    "#### 3.2.2) WAR = RAR / 10  \n",
    "\n",
    "- (R/W) 이 경우 R/W은 1승에 해당하는 득점을 10으로 통일한다)<br>\n",
    "   \n",
    "http://www.kbreport.com/common/statDic/positionPlayerWAR"
   ]
  },
  {
   "cell_type": "markdown",
   "metadata": {},
   "source": [
    "#### 3.2) Hitter WAR"
   ]
  },
  {
   "cell_type": "code",
   "execution_count": 16,
   "metadata": {},
   "outputs": [],
   "source": [
    "#리그평균 wOBA구하기\n",
    "hitter['lgwOBA'] = np.mean(hitter['wOBA'])\n",
    "hitter['lgwOBA'] = round(hitter['lgwOBA'], 3)"
   ]
  },
  {
   "cell_type": "code",
   "execution_count": 17,
   "metadata": {},
   "outputs": [
    {
     "data": {
      "text/html": [
       "<div>\n",
       "<style scoped>\n",
       "    .dataframe tbody tr th:only-of-type {\n",
       "        vertical-align: middle;\n",
       "    }\n",
       "\n",
       "    .dataframe tbody tr th {\n",
       "        vertical-align: top;\n",
       "    }\n",
       "\n",
       "    .dataframe thead th {\n",
       "        text-align: right;\n",
       "    }\n",
       "</style>\n",
       "<table border=\"1\" class=\"dataframe\">\n",
       "  <thead>\n",
       "    <tr style=\"text-align: right;\">\n",
       "      <th></th>\n",
       "      <th>순위</th>\n",
       "      <th>이름</th>\n",
       "      <th>경기</th>\n",
       "      <th>타율</th>\n",
       "      <th>타석</th>\n",
       "      <th>타수</th>\n",
       "      <th>안타</th>\n",
       "      <th>단타</th>\n",
       "      <th>2루타</th>\n",
       "      <th>3루타</th>\n",
       "      <th>...</th>\n",
       "      <th>타점</th>\n",
       "      <th>득점</th>\n",
       "      <th>사사구</th>\n",
       "      <th>삼진</th>\n",
       "      <th>출루율</th>\n",
       "      <th>장타율</th>\n",
       "      <th>도루</th>\n",
       "      <th>wOBA</th>\n",
       "      <th>lgwOBA</th>\n",
       "      <th>WAR</th>\n",
       "    </tr>\n",
       "  </thead>\n",
       "  <tbody>\n",
       "    <tr>\n",
       "      <th>8</th>\n",
       "      <td>9</td>\n",
       "      <td>강백호(서울고)</td>\n",
       "      <td>31</td>\n",
       "      <td>0.434</td>\n",
       "      <td>133</td>\n",
       "      <td>106</td>\n",
       "      <td>46</td>\n",
       "      <td>30</td>\n",
       "      <td>13</td>\n",
       "      <td>0</td>\n",
       "      <td>...</td>\n",
       "      <td>34</td>\n",
       "      <td>37</td>\n",
       "      <td>27</td>\n",
       "      <td>10</td>\n",
       "      <td>0.549</td>\n",
       "      <td>0.642</td>\n",
       "      <td>10</td>\n",
       "      <td>0.649</td>\n",
       "      <td>0.427</td>\n",
       "      <td>3.011</td>\n",
       "    </tr>\n",
       "    <tr>\n",
       "      <th>23</th>\n",
       "      <td>24</td>\n",
       "      <td>김민기(덕수고)</td>\n",
       "      <td>30</td>\n",
       "      <td>0.393</td>\n",
       "      <td>124</td>\n",
       "      <td>89</td>\n",
       "      <td>35</td>\n",
       "      <td>25</td>\n",
       "      <td>8</td>\n",
       "      <td>1</td>\n",
       "      <td>...</td>\n",
       "      <td>13</td>\n",
       "      <td>27</td>\n",
       "      <td>31</td>\n",
       "      <td>10</td>\n",
       "      <td>0.545</td>\n",
       "      <td>0.539</td>\n",
       "      <td>13</td>\n",
       "      <td>0.660</td>\n",
       "      <td>0.427</td>\n",
       "      <td>2.926</td>\n",
       "    </tr>\n",
       "    <tr>\n",
       "      <th>12</th>\n",
       "      <td>13</td>\n",
       "      <td>최현준(서울고)</td>\n",
       "      <td>31</td>\n",
       "      <td>0.423</td>\n",
       "      <td>141</td>\n",
       "      <td>111</td>\n",
       "      <td>47</td>\n",
       "      <td>38</td>\n",
       "      <td>6</td>\n",
       "      <td>3</td>\n",
       "      <td>...</td>\n",
       "      <td>25</td>\n",
       "      <td>40</td>\n",
       "      <td>28</td>\n",
       "      <td>13</td>\n",
       "      <td>0.536</td>\n",
       "      <td>0.532</td>\n",
       "      <td>20</td>\n",
       "      <td>0.603</td>\n",
       "      <td>0.427</td>\n",
       "      <td>2.628</td>\n",
       "    </tr>\n",
       "    <tr>\n",
       "      <th>2</th>\n",
       "      <td>3</td>\n",
       "      <td>배지환(경북고)</td>\n",
       "      <td>27</td>\n",
       "      <td>0.474</td>\n",
       "      <td>120</td>\n",
       "      <td>95</td>\n",
       "      <td>45</td>\n",
       "      <td>36</td>\n",
       "      <td>3</td>\n",
       "      <td>5</td>\n",
       "      <td>...</td>\n",
       "      <td>17</td>\n",
       "      <td>31</td>\n",
       "      <td>20</td>\n",
       "      <td>10</td>\n",
       "      <td>0.556</td>\n",
       "      <td>0.642</td>\n",
       "      <td>30</td>\n",
       "      <td>0.638</td>\n",
       "      <td>0.427</td>\n",
       "      <td>2.602</td>\n",
       "    </tr>\n",
       "    <tr>\n",
       "      <th>63</th>\n",
       "      <td>64</td>\n",
       "      <td>김다운(율곡고)</td>\n",
       "      <td>25</td>\n",
       "      <td>0.353</td>\n",
       "      <td>115</td>\n",
       "      <td>85</td>\n",
       "      <td>30</td>\n",
       "      <td>18</td>\n",
       "      <td>8</td>\n",
       "      <td>4</td>\n",
       "      <td>...</td>\n",
       "      <td>14</td>\n",
       "      <td>34</td>\n",
       "      <td>29</td>\n",
       "      <td>7</td>\n",
       "      <td>0.518</td>\n",
       "      <td>0.541</td>\n",
       "      <td>4</td>\n",
       "      <td>0.631</td>\n",
       "      <td>0.427</td>\n",
       "      <td>2.423</td>\n",
       "    </tr>\n",
       "  </tbody>\n",
       "</table>\n",
       "<p>5 rows × 21 columns</p>\n",
       "</div>"
      ],
      "text/plain": [
       "    순위        이름  경기     타율   타석   타수  안타  단타  2루타  3루타  ...    타점  득점  사사구  \\\n",
       "8    9  강백호(서울고)  31  0.434  133  106  46  30   13    0  ...    34  37   27   \n",
       "23  24  김민기(덕수고)  30  0.393  124   89  35  25    8    1  ...    13  27   31   \n",
       "12  13  최현준(서울고)  31  0.423  141  111  47  38    6    3  ...    25  40   28   \n",
       "2    3  배지환(경북고)  27  0.474  120   95  45  36    3    5  ...    17  31   20   \n",
       "63  64  김다운(율곡고)  25  0.353  115   85  30  18    8    4  ...    14  34   29   \n",
       "\n",
       "    삼진    출루율    장타율  도루   wOBA  lgwOBA    WAR  \n",
       "8   10  0.549  0.642  10  0.649   0.427  3.011  \n",
       "23  10  0.545  0.539  13  0.660   0.427  2.926  \n",
       "12  13  0.536  0.532  20  0.603   0.427  2.628  \n",
       "2   10  0.556  0.642  30  0.638   0.427  2.602  \n",
       "63   7  0.518  0.541   4  0.631   0.427  2.423  \n",
       "\n",
       "[5 rows x 21 columns]"
      ]
     },
     "execution_count": 17,
     "metadata": {},
     "output_type": "execute_result"
    }
   ],
   "source": [
    "hitter['WAR'] = hitter.apply(lambda x: (( (((x[18] - x[19]) / 1.15) * x[4]) + (20 * x[4] / 600)) / 10), axis=1)\n",
    "hitter = hitter.sort_values(by='WAR',ascending=False)\n",
    "\n",
    "hitter['WAR'] = round(hitter['WAR'], 3)\n",
    "\n",
    "hitter.head()"
   ]
  },
  {
   "cell_type": "markdown",
   "metadata": {},
   "source": [
    "**강백호, 김민기, 최현준, 배지환, 김다운** 순으로 위 기준에서 **좋은 야수**로 분리된다\n",
    "\n",
    "그러나 이는 KBO기준이므로 상대적으로 경기가 적은 고교야구에서는 WAR기준을 낮출 필요가 있다.\n",
    "\n",
    "Ref : http://www.kbreport.com/common/statDic/positionPlayerWAR"
   ]
  },
  {
   "cell_type": "markdown",
   "metadata": {},
   "source": [
    "## 4. 2018 KBO 신인 드래프트와의 비교"
   ]
  },
  {
   "cell_type": "markdown",
   "metadata": {},
   "source": [
    "* 비교불필요값 제거(대학선수)"
   ]
  },
  {
   "cell_type": "code",
   "execution_count": 48,
   "metadata": {},
   "outputs": [
    {
     "data": {
      "text/html": [
       "<div>\n",
       "<style scoped>\n",
       "    .dataframe tbody tr th:only-of-type {\n",
       "        vertical-align: middle;\n",
       "    }\n",
       "\n",
       "    .dataframe tbody tr th {\n",
       "        vertical-align: top;\n",
       "    }\n",
       "\n",
       "    .dataframe thead th {\n",
       "        text-align: right;\n",
       "    }\n",
       "</style>\n",
       "<table border=\"1\" class=\"dataframe\">\n",
       "  <thead>\n",
       "    <tr style=\"text-align: right;\">\n",
       "      <th></th>\n",
       "      <th>순위</th>\n",
       "      <th>이름</th>\n",
       "      <th>학교</th>\n",
       "      <th>포지션</th>\n",
       "    </tr>\n",
       "  </thead>\n",
       "  <tbody>\n",
       "    <tr>\n",
       "      <th>0</th>\n",
       "      <td>1</td>\n",
       "      <td>강백호</td>\n",
       "      <td>서울고</td>\n",
       "      <td>포수</td>\n",
       "    </tr>\n",
       "    <tr>\n",
       "      <th>1</th>\n",
       "      <td>2</td>\n",
       "      <td>김형준</td>\n",
       "      <td>세광고</td>\n",
       "      <td>포수</td>\n",
       "    </tr>\n",
       "    <tr>\n",
       "      <th>2</th>\n",
       "      <td>3</td>\n",
       "      <td>이재원</td>\n",
       "      <td>서울고</td>\n",
       "      <td>외야수</td>\n",
       "    </tr>\n",
       "    <tr>\n",
       "      <th>3</th>\n",
       "      <td>4</td>\n",
       "      <td>예진원</td>\n",
       "      <td>경남고</td>\n",
       "      <td>외야수</td>\n",
       "    </tr>\n",
       "    <tr>\n",
       "      <th>4</th>\n",
       "      <td>5</td>\n",
       "      <td>오영수</td>\n",
       "      <td>오영수</td>\n",
       "      <td>내야수</td>\n",
       "    </tr>\n",
       "    <tr>\n",
       "      <th>5</th>\n",
       "      <td>6</td>\n",
       "      <td>정은원</td>\n",
       "      <td>인천고</td>\n",
       "      <td>내야수</td>\n",
       "    </tr>\n",
       "    <tr>\n",
       "      <th>6</th>\n",
       "      <td>7</td>\n",
       "      <td>최현준</td>\n",
       "      <td>서울고</td>\n",
       "      <td>내야수</td>\n",
       "    </tr>\n",
       "    <tr>\n",
       "      <th>7</th>\n",
       "      <td>8</td>\n",
       "      <td>추재현</td>\n",
       "      <td>신일고</td>\n",
       "      <td>외야수</td>\n",
       "    </tr>\n",
       "    <tr>\n",
       "      <th>8</th>\n",
       "      <td>9</td>\n",
       "      <td>김철호</td>\n",
       "      <td>율곡고</td>\n",
       "      <td>내야수</td>\n",
       "    </tr>\n",
       "    <tr>\n",
       "      <th>9</th>\n",
       "      <td>10</td>\n",
       "      <td>고명성</td>\n",
       "      <td>군산상고</td>\n",
       "      <td>내야수</td>\n",
       "    </tr>\n",
       "    <tr>\n",
       "      <th>11</th>\n",
       "      <td>12</td>\n",
       "      <td>이원석</td>\n",
       "      <td>충암고</td>\n",
       "      <td>외야수</td>\n",
       "    </tr>\n",
       "    <tr>\n",
       "      <th>12</th>\n",
       "      <td>13</td>\n",
       "      <td>최준우</td>\n",
       "      <td>장충고</td>\n",
       "      <td>내야수</td>\n",
       "    </tr>\n",
       "    <tr>\n",
       "      <th>13</th>\n",
       "      <td>14</td>\n",
       "      <td>오정환</td>\n",
       "      <td>경기고</td>\n",
       "      <td>내야수</td>\n",
       "    </tr>\n",
       "    <tr>\n",
       "      <th>14</th>\n",
       "      <td>15</td>\n",
       "      <td>배현호</td>\n",
       "      <td>경북고</td>\n",
       "      <td>포수</td>\n",
       "    </tr>\n",
       "    <tr>\n",
       "      <th>15</th>\n",
       "      <td>16</td>\n",
       "      <td>전민재</td>\n",
       "      <td>대전고</td>\n",
       "      <td>내야수</td>\n",
       "    </tr>\n",
       "    <tr>\n",
       "      <th>16</th>\n",
       "      <td>17</td>\n",
       "      <td>윤정빈</td>\n",
       "      <td>부천고</td>\n",
       "      <td>내야수</td>\n",
       "    </tr>\n",
       "    <tr>\n",
       "      <th>17</th>\n",
       "      <td>18</td>\n",
       "      <td>전경원</td>\n",
       "      <td>성남고</td>\n",
       "      <td>포수</td>\n",
       "    </tr>\n",
       "    <tr>\n",
       "      <th>18</th>\n",
       "      <td>19</td>\n",
       "      <td>김수환</td>\n",
       "      <td>제물포고</td>\n",
       "      <td>내야수</td>\n",
       "    </tr>\n",
       "    <tr>\n",
       "      <th>20</th>\n",
       "      <td>21</td>\n",
       "      <td>이성원</td>\n",
       "      <td>장안고</td>\n",
       "      <td>포수</td>\n",
       "    </tr>\n",
       "    <tr>\n",
       "      <th>22</th>\n",
       "      <td>23</td>\n",
       "      <td>백선기</td>\n",
       "      <td>상원고</td>\n",
       "      <td>외야수</td>\n",
       "    </tr>\n",
       "    <tr>\n",
       "      <th>23</th>\n",
       "      <td>24</td>\n",
       "      <td>김민기</td>\n",
       "      <td>덕수고</td>\n",
       "      <td>내야수</td>\n",
       "    </tr>\n",
       "    <tr>\n",
       "      <th>24</th>\n",
       "      <td>25</td>\n",
       "      <td>송찬의</td>\n",
       "      <td>선린인터넷고</td>\n",
       "      <td>내야수</td>\n",
       "    </tr>\n",
       "    <tr>\n",
       "      <th>25</th>\n",
       "      <td>26</td>\n",
       "      <td>조병규</td>\n",
       "      <td>세광고</td>\n",
       "      <td>내야수</td>\n",
       "    </tr>\n",
       "    <tr>\n",
       "      <th>26</th>\n",
       "      <td>27</td>\n",
       "      <td>최보성</td>\n",
       "      <td>개성고</td>\n",
       "      <td>내야수</td>\n",
       "    </tr>\n",
       "    <tr>\n",
       "      <th>27</th>\n",
       "      <td>28</td>\n",
       "      <td>공민규</td>\n",
       "      <td>인천고</td>\n",
       "      <td>내야수</td>\n",
       "    </tr>\n",
       "    <tr>\n",
       "      <th>28</th>\n",
       "      <td>29</td>\n",
       "      <td>강동권</td>\n",
       "      <td>용마고</td>\n",
       "      <td>내야수</td>\n",
       "    </tr>\n",
       "    <tr>\n",
       "      <th>29</th>\n",
       "      <td>30</td>\n",
       "      <td>문장은</td>\n",
       "      <td>배재고</td>\n",
       "      <td>내야수</td>\n",
       "    </tr>\n",
       "    <tr>\n",
       "      <th>31</th>\n",
       "      <td>32</td>\n",
       "      <td>서주원</td>\n",
       "      <td>대전고</td>\n",
       "      <td>포수</td>\n",
       "    </tr>\n",
       "    <tr>\n",
       "      <th>32</th>\n",
       "      <td>33</td>\n",
       "      <td>정보근</td>\n",
       "      <td>경남고</td>\n",
       "      <td>포수</td>\n",
       "    </tr>\n",
       "    <tr>\n",
       "      <th>33</th>\n",
       "      <td>34</td>\n",
       "      <td>정문근</td>\n",
       "      <td>서울고</td>\n",
       "      <td>외야수</td>\n",
       "    </tr>\n",
       "    <tr>\n",
       "      <th>35</th>\n",
       "      <td>36</td>\n",
       "      <td>조대현</td>\n",
       "      <td>유신고</td>\n",
       "      <td>포수</td>\n",
       "    </tr>\n",
       "    <tr>\n",
       "      <th>36</th>\n",
       "      <td>37</td>\n",
       "      <td>장두성</td>\n",
       "      <td>동산고</td>\n",
       "      <td>외야수</td>\n",
       "    </tr>\n",
       "    <tr>\n",
       "      <th>39</th>\n",
       "      <td>40</td>\n",
       "      <td>이인혁</td>\n",
       "      <td>덕수고</td>\n",
       "      <td>외야수</td>\n",
       "    </tr>\n",
       "    <tr>\n",
       "      <th>40</th>\n",
       "      <td>41</td>\n",
       "      <td>권민석</td>\n",
       "      <td>강릉고</td>\n",
       "      <td>내야수</td>\n",
       "    </tr>\n",
       "  </tbody>\n",
       "</table>\n",
       "</div>"
      ],
      "text/plain": [
       "    순위   이름      학교  포지션\n",
       "0    1  강백호     서울고   포수\n",
       "1    2  김형준     세광고   포수\n",
       "2    3  이재원     서울고  외야수\n",
       "3    4  예진원     경남고  외야수\n",
       "4    5  오영수     오영수  내야수\n",
       "5    6  정은원     인천고  내야수\n",
       "6    7  최현준     서울고  내야수\n",
       "7    8  추재현     신일고  외야수\n",
       "8    9  김철호     율곡고  내야수\n",
       "9   10  고명성    군산상고  내야수\n",
       "11  12  이원석     충암고  외야수\n",
       "12  13  최준우     장충고  내야수\n",
       "13  14  오정환     경기고  내야수\n",
       "14  15  배현호     경북고   포수\n",
       "15  16  전민재     대전고  내야수\n",
       "16  17  윤정빈     부천고  내야수\n",
       "17  18  전경원     성남고   포수\n",
       "18  19  김수환    제물포고  내야수\n",
       "20  21  이성원     장안고   포수\n",
       "22  23  백선기     상원고  외야수\n",
       "23  24  김민기     덕수고  내야수\n",
       "24  25  송찬의  선린인터넷고  내야수\n",
       "25  26  조병규     세광고  내야수\n",
       "26  27  최보성     개성고  내야수\n",
       "27  28  공민규     인천고  내야수\n",
       "28  29  강동권     용마고  내야수\n",
       "29  30  문장은     배재고  내야수\n",
       "31  32  서주원     대전고   포수\n",
       "32  33  정보근     경남고   포수\n",
       "33  34  정문근     서울고  외야수\n",
       "35  36  조대현     유신고   포수\n",
       "36  37  장두성     동산고  외야수\n",
       "39  40  이인혁     덕수고  외야수\n",
       "40  41  권민석     강릉고  내야수"
      ]
     },
     "execution_count": 48,
     "metadata": {},
     "output_type": "execute_result"
    }
   ],
   "source": [
    "df_ht = pd.read_csv('draft/pitcher_draft.csv')\n",
    "df_pc = pd.read_csv('draft/hitter_draft.csv')\n",
    "\n",
    "df_ht = df_ht[~df_ht.학교.str.endswith('대학교')]\n",
    "df_pc = df_pc[~df_pc.학교.str.endswith('대학교')]\n",
    "df_pc"
   ]
  },
  {
   "cell_type": "code",
   "execution_count": null,
   "metadata": {},
   "outputs": [],
   "source": []
  }
 ],
 "metadata": {
  "kernelspec": {
   "display_name": "Python 3",
   "language": "python",
   "name": "python3"
  },
  "language_info": {
   "codemirror_mode": {
    "name": "ipython",
    "version": 3
   },
   "file_extension": ".py",
   "mimetype": "text/x-python",
   "name": "python",
   "nbconvert_exporter": "python",
   "pygments_lexer": "ipython3",
   "version": "3.6.5"
  }
 },
 "nbformat": 4,
 "nbformat_minor": 2
}
