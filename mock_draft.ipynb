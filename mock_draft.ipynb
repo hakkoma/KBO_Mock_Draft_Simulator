{
 "cells": [
  {
   "cell_type": "markdown",
   "metadata": {},
   "source": [
    "# 2018 KBO Mock Rookie Draft\n",
    "\n",
    "## 1. 타자(wOBA)\n",
    "\n",
    "## 2. 투수(FIP)\n",
    "\n",
    "## 3. 투타통합(WAR)\n",
    "    3.1 투수의 WAR은 fWAR을 기준으로 설정한다.\n",
    "    3.2 타자의 WAR은 wOBA를 기준으로 설정한다.\n",
    "    \n",
    "## 4. 2018 KBO 신인 드래프트와의 비교\n",
    "\n",
    "** References<br/> **\n",
    "https://en.wikipedia.org/wiki/WOBA<br>\n",
    "http://ko.yagongso.wikidok.net/wp-d/59e0e5f411f7fa6a3ea5545a/View\n",
    "https://namu.wiki/w/WAR\n",
    "https://namu.wiki/w/KBO%20%EB%A6%AC%EA%B7%B8/2018%EB%85%84/%EC%8B%A0%EC%9D%B8%EB%93%9C%EB%9E%98%ED%94%84%ED%8A%B8\n",
    "\n"
   ]
  },
  {
   "cell_type": "markdown",
   "metadata": {},
   "source": [
    "## 1. 타자 (wOBA)"
   ]
  },
  {
   "cell_type": "code",
   "execution_count": 51,
   "metadata": {},
   "outputs": [
    {
     "name": "stdout",
     "output_type": "stream",
     "text": [
      "<class 'pandas.core.frame.DataFrame'>\n",
      "RangeIndex: 619 entries, 0 to 618\n",
      "Data columns (total 17 columns):\n",
      "순위     619 non-null int64\n",
      "이름     619 non-null object\n",
      "경기     619 non-null int64\n",
      "타율     619 non-null float64\n",
      "타석     619 non-null int64\n",
      "타수     619 non-null int64\n",
      "안타     619 non-null int64\n",
      "2루타    619 non-null int64\n",
      "3루타    619 non-null int64\n",
      "홈런     619 non-null int64\n",
      "타점     619 non-null int64\n",
      "득점     619 non-null int64\n",
      "사사구    619 non-null int64\n",
      "삼진     619 non-null int64\n",
      "출루율    619 non-null float64\n",
      "장타율    619 non-null float64\n",
      "도루     619 non-null int64\n",
      "dtypes: float64(3), int64(13), object(1)\n",
      "memory usage: 82.3+ KB\n"
     ]
    }
   ],
   "source": [
    "import pandas as pd\n",
    "import numpy as np\n",
    "import matplotlib as plt\n",
    "import re\n",
    "\n",
    "#Import data\n",
    "hitter = pd.read_csv('stat/2017hitter.csv')\n",
    "hitter.info()"
   ]
  },
  {
   "cell_type": "markdown",
   "metadata": {},
   "source": [
    "### Data Cleaning for Hitter "
   ]
  },
  {
   "cell_type": "code",
   "execution_count": 52,
   "metadata": {},
   "outputs": [
    {
     "data": {
      "text/plain": [
       "순위     0\n",
       "이름     0\n",
       "경기     0\n",
       "타율     0\n",
       "타석     0\n",
       "타수     0\n",
       "안타     0\n",
       "2루타    0\n",
       "3루타    0\n",
       "홈런     0\n",
       "타점     0\n",
       "득점     0\n",
       "사사구    0\n",
       "삼진     0\n",
       "출루율    0\n",
       "장타율    0\n",
       "도루     0\n",
       "dtype: int64"
      ]
     },
     "execution_count": 52,
     "metadata": {},
     "output_type": "execute_result"
    }
   ],
   "source": [
    "#check missing value\n",
    "hitter.isnull().sum()"
   ]
  },
  {
   "cell_type": "markdown",
   "metadata": {},
   "source": [
    "규정타석을 채우지 못한 타자들을 거를 필요가 있다 <br/>\n",
    "\n",
    "2017년 기준\n",
    "* 전반기 주말리그 7경기\n",
    "* 후반기 주말리그 7경기\n",
    "* 황금사자기\n",
    "* 청룡선수권\n",
    "* 대통령배\n",
    "* 봉황대기\n",
    "* 전국체전 \n",
    "\n",
    "전국체전을 제외한 대회를 각각 2경기를 평균으로 해서 총 19경기를 소속팀 평균 경기수로 계산했다\n",
    "\n",
    "규정타석 : 소속팀 경기수 x 0.8 x 3 = 62.4타석 <br/>\n",
    "http://www.hsbaseball.kr/board/bbs_cmu_read.php?idxno=972&menu_idxno=11&page=31&search_item=&search_word=&category="
   ]
  },
  {
   "cell_type": "code",
   "execution_count": 53,
   "metadata": {},
   "outputs": [
    {
     "data": {
      "text/plain": [
       "(339, 17)"
      ]
     },
     "execution_count": 53,
     "metadata": {},
     "output_type": "execute_result"
    }
   ],
   "source": [
    "hitter = hitter[hitter['타석'] >= 62.4]\n",
    "hitter.shape"
   ]
  },
  {
   "cell_type": "code",
   "execution_count": 54,
   "metadata": {},
   "outputs": [
    {
     "data": {
      "text/html": [
       "<div>\n",
       "<style scoped>\n",
       "    .dataframe tbody tr th:only-of-type {\n",
       "        vertical-align: middle;\n",
       "    }\n",
       "\n",
       "    .dataframe tbody tr th {\n",
       "        vertical-align: top;\n",
       "    }\n",
       "\n",
       "    .dataframe thead th {\n",
       "        text-align: right;\n",
       "    }\n",
       "</style>\n",
       "<table border=\"1\" class=\"dataframe\">\n",
       "  <thead>\n",
       "    <tr style=\"text-align: right;\">\n",
       "      <th></th>\n",
       "      <th>순위</th>\n",
       "      <th>이름</th>\n",
       "      <th>경기</th>\n",
       "      <th>타율</th>\n",
       "      <th>타석</th>\n",
       "      <th>타수</th>\n",
       "      <th>안타</th>\n",
       "      <th>단타</th>\n",
       "      <th>2루타</th>\n",
       "      <th>3루타</th>\n",
       "      <th>홈런</th>\n",
       "      <th>타점</th>\n",
       "      <th>득점</th>\n",
       "      <th>사사구</th>\n",
       "      <th>삼진</th>\n",
       "      <th>출루율</th>\n",
       "      <th>장타율</th>\n",
       "      <th>도루</th>\n",
       "    </tr>\n",
       "  </thead>\n",
       "  <tbody>\n",
       "    <tr>\n",
       "      <th>2</th>\n",
       "      <td>3</td>\n",
       "      <td>배지환(경북고)</td>\n",
       "      <td>27</td>\n",
       "      <td>0.474</td>\n",
       "      <td>120</td>\n",
       "      <td>95</td>\n",
       "      <td>45</td>\n",
       "      <td>36</td>\n",
       "      <td>3</td>\n",
       "      <td>5</td>\n",
       "      <td>1</td>\n",
       "      <td>17</td>\n",
       "      <td>31</td>\n",
       "      <td>20</td>\n",
       "      <td>10</td>\n",
       "      <td>0.556</td>\n",
       "      <td>0.642</td>\n",
       "      <td>30</td>\n",
       "    </tr>\n",
       "    <tr>\n",
       "      <th>8</th>\n",
       "      <td>9</td>\n",
       "      <td>강백호(서울고)</td>\n",
       "      <td>31</td>\n",
       "      <td>0.434</td>\n",
       "      <td>133</td>\n",
       "      <td>106</td>\n",
       "      <td>46</td>\n",
       "      <td>30</td>\n",
       "      <td>13</td>\n",
       "      <td>0</td>\n",
       "      <td>3</td>\n",
       "      <td>34</td>\n",
       "      <td>37</td>\n",
       "      <td>27</td>\n",
       "      <td>10</td>\n",
       "      <td>0.549</td>\n",
       "      <td>0.642</td>\n",
       "      <td>10</td>\n",
       "    </tr>\n",
       "    <tr>\n",
       "      <th>9</th>\n",
       "      <td>10</td>\n",
       "      <td>성영래(진흥고)</td>\n",
       "      <td>20</td>\n",
       "      <td>0.433</td>\n",
       "      <td>79</td>\n",
       "      <td>67</td>\n",
       "      <td>29</td>\n",
       "      <td>21</td>\n",
       "      <td>6</td>\n",
       "      <td>2</td>\n",
       "      <td>0</td>\n",
       "      <td>15</td>\n",
       "      <td>12</td>\n",
       "      <td>5</td>\n",
       "      <td>7</td>\n",
       "      <td>0.466</td>\n",
       "      <td>0.582</td>\n",
       "      <td>2</td>\n",
       "    </tr>\n",
       "    <tr>\n",
       "      <th>10</th>\n",
       "      <td>11</td>\n",
       "      <td>전영수(서울디자인고)</td>\n",
       "      <td>17</td>\n",
       "      <td>0.431</td>\n",
       "      <td>63</td>\n",
       "      <td>51</td>\n",
       "      <td>22</td>\n",
       "      <td>17</td>\n",
       "      <td>3</td>\n",
       "      <td>1</td>\n",
       "      <td>1</td>\n",
       "      <td>4</td>\n",
       "      <td>12</td>\n",
       "      <td>11</td>\n",
       "      <td>12</td>\n",
       "      <td>0.524</td>\n",
       "      <td>0.588</td>\n",
       "      <td>11</td>\n",
       "    </tr>\n",
       "    <tr>\n",
       "      <th>11</th>\n",
       "      <td>12</td>\n",
       "      <td>김지훈(송탄제일고)</td>\n",
       "      <td>18</td>\n",
       "      <td>0.424</td>\n",
       "      <td>79</td>\n",
       "      <td>66</td>\n",
       "      <td>28</td>\n",
       "      <td>26</td>\n",
       "      <td>1</td>\n",
       "      <td>1</td>\n",
       "      <td>0</td>\n",
       "      <td>8</td>\n",
       "      <td>18</td>\n",
       "      <td>11</td>\n",
       "      <td>7</td>\n",
       "      <td>0.494</td>\n",
       "      <td>0.470</td>\n",
       "      <td>25</td>\n",
       "    </tr>\n",
       "  </tbody>\n",
       "</table>\n",
       "</div>"
      ],
      "text/plain": [
       "    순위           이름  경기     타율   타석   타수  안타  단타  2루타  3루타  홈런  타점  득점  사사구  \\\n",
       "2    3     배지환(경북고)  27  0.474  120   95  45  36    3    5   1  17  31   20   \n",
       "8    9     강백호(서울고)  31  0.434  133  106  46  30   13    0   3  34  37   27   \n",
       "9   10     성영래(진흥고)  20  0.433   79   67  29  21    6    2   0  15  12    5   \n",
       "10  11  전영수(서울디자인고)  17  0.431   63   51  22  17    3    1   1   4  12   11   \n",
       "11  12   김지훈(송탄제일고)  18  0.424   79   66  28  26    1    1   0   8  18   11   \n",
       "\n",
       "    삼진    출루율    장타율  도루  \n",
       "2   10  0.556  0.642  30  \n",
       "8   10  0.549  0.642  10  \n",
       "9    7  0.466  0.582   2  \n",
       "10  12  0.524  0.588  11  \n",
       "11   7  0.494  0.470  25  "
      ]
     },
     "execution_count": 54,
     "metadata": {},
     "output_type": "execute_result"
    }
   ],
   "source": [
    "#단타 지표 추가\n",
    "hitter['단타'] = hitter.apply(lambda x: x[6] - (x[7] + x[8] +x[9]), axis=1)\n",
    "col_names = ['순위','이름','경기','타율','타석','타수','안타','단타','2루타','3루타','홈런','타점','득점','사사구','삼진','출루율','장타율','도루']\n",
    "hitter = hitter.reindex(columns=col_names)\n",
    "hitter.head()"
   ]
  },
  {
   "cell_type": "markdown",
   "metadata": {},
   "source": [
    "### TOP 10 HITTERS by wOBA"
   ]
  },
  {
   "cell_type": "code",
   "execution_count": 55,
   "metadata": {},
   "outputs": [],
   "source": [
    "#타자 종합지표 wOBA도입\n",
    "hitter['wOBA'] = hitter.apply(lambda x: (0.735*x[13] + 0.9*x[7] + 1.24*x[8] + 1.56*x[9] + 1.95*x[10])/x[5], axis=1)\n",
    "hitter = hitter.sort_values(by='wOBA',ascending=0)\n",
    "\n",
    "hitter['wOBA'] = round(hitter['wOBA'],3)"
   ]
  },
  {
   "cell_type": "markdown",
   "metadata": {},
   "source": [
    "## 2. 투수 (FIP)"
   ]
  },
  {
   "cell_type": "code",
   "execution_count": 56,
   "metadata": {},
   "outputs": [
    {
     "name": "stdout",
     "output_type": "stream",
     "text": [
      "<class 'pandas.core.frame.DataFrame'>\n",
      "RangeIndex: 233 entries, 0 to 232\n",
      "Data columns (total 20 columns):\n",
      "순위        233 non-null int64\n",
      "이름(팀명)    233 non-null object\n",
      "경기        233 non-null int64\n",
      "승         233 non-null int64\n",
      "패         233 non-null int64\n",
      "세이브       233 non-null int64\n",
      "이닝        233 non-null float64\n",
      "타자        233 non-null int64\n",
      "타수        233 non-null int64\n",
      "피안타       233 non-null int64\n",
      "피홈        233 non-null int64\n",
      "희생        233 non-null int64\n",
      "4구        233 non-null int64\n",
      "사구        233 non-null int64\n",
      "삼진        233 non-null int64\n",
      "실점        233 non-null int64\n",
      "자책        233 non-null int64\n",
      "투구        233 non-null int64\n",
      "S         233 non-null int64\n",
      "방어율       233 non-null float64\n",
      "dtypes: float64(2), int64(17), object(1)\n",
      "memory usage: 36.5+ KB\n"
     ]
    }
   ],
   "source": [
    "pitcher = pd.read_csv('stat/2017pitcher.csv')\n",
    "pitcher.info()"
   ]
  },
  {
   "cell_type": "markdown",
   "metadata": {},
   "source": [
    "### Data Cleaning for Pitcher "
   ]
  },
  {
   "cell_type": "code",
   "execution_count": 57,
   "metadata": {},
   "outputs": [
    {
     "data": {
      "text/plain": [
       "순위        0\n",
       "이름(팀명)    0\n",
       "경기        0\n",
       "승         0\n",
       "패         0\n",
       "세이브       0\n",
       "이닝        0\n",
       "타자        0\n",
       "타수        0\n",
       "피안타       0\n",
       "피홈        0\n",
       "희생        0\n",
       "4구        0\n",
       "사구        0\n",
       "삼진        0\n",
       "실점        0\n",
       "자책        0\n",
       "투구        0\n",
       "S         0\n",
       "방어율       0\n",
       "dtype: int64"
      ]
     },
     "execution_count": 57,
     "metadata": {},
     "output_type": "execute_result"
    }
   ],
   "source": [
    "pitcher.isnull().sum()"
   ]
  },
  {
   "cell_type": "markdown",
   "metadata": {},
   "source": [
    "규정이닝 : 소속팀 경기수(26) x 0.8 = 20.8이닝 <br/>"
   ]
  },
  {
   "cell_type": "code",
   "execution_count": 58,
   "metadata": {},
   "outputs": [
    {
     "data": {
      "text/plain": [
       "(86, 20)"
      ]
     },
     "execution_count": 58,
     "metadata": {},
     "output_type": "execute_result"
    }
   ],
   "source": [
    "pitcher = pitcher[pitcher['이닝'] >= 40]\n",
    "pitcher.shape"
   ]
  },
  {
   "cell_type": "markdown",
   "metadata": {},
   "source": [
    "**FIP  = { ( 13 x 홈런 ) + ( 3 x 볼넷 ) – ( 2 x 삼진 ) } / 이닝 + cFIP **"
   ]
  },
  {
   "cell_type": "markdown",
   "metadata": {},
   "source": [
    "### TOP 10 PITCHERS BY FIP"
   ]
  },
  {
   "cell_type": "code",
   "execution_count": 59,
   "metadata": {},
   "outputs": [],
   "source": [
    "#FIP = { ( 13 x HR ) + ( 3 x BB ) – ( 2 x K ) } / 이닝 + cFIP\n",
    "\n",
    "pitcher['FIP'] = pitcher.apply(lambda x: ( (13*x[10] + 3*x[12]) - 2*x[14])/ x[6] + 3.16, axis=1)\n",
    "pitcher = pitcher.sort_values(by='FIP',ascending=True)\n",
    "\n",
    "pitcher['FIP'] = round(pitcher['FIP'],3)"
   ]
  },
  {
   "cell_type": "markdown",
   "metadata": {},
   "source": [
    "## 3. 투타통합 (WAR 기준)"
   ]
  },
  {
   "cell_type": "code",
   "execution_count": 60,
   "metadata": {},
   "outputs": [
    {
     "data": {
      "image/png": "[encoded data removed]",
      "text/plain": [
       "<IPython.core.display.Image object>"
      ]
     },
     "execution_count": 60,
     "metadata": {
      "image/png": {
       "width": 300
      }
     },
     "output_type": "execute_result"
    }
   ],
   "source": [
    "from IPython.display import Image\n",
    "Image(filename = \"pic/war_pitcher.png\", width = 300)"
   ]
  },
  {
   "cell_type": "markdown",
   "metadata": {},
   "source": [
    "WAR를 통한 선수가치는 위의 표와 같이 통상적으로 매겨지며, 리그 성격,경기수등에 따른 변수들에 의해 차이는 있다."
   ]
  },
  {
   "cell_type": "markdown",
   "metadata": {},
   "source": [
    "### 3.1) 투수의 WAR은 fWAR을 기준으로 설정한다\n",
    "\n",
    "#### 3.1.1) RA(평균실점)\n",
    "\n",
    "lgERA(리그평균자책점) = 리그자책점 / 리그경기(리그이닝수/9) <br>\n",
    "lgRA(리그실점) = 리그실점 / 리그경기(리그이닝수/9) <br>\n",
    "RAscale = lgERA / lgRA\n",
    "\n",
    "RA = FIP / RAscale\n",
    "\n",
    "#### 3.1.2) pR/W(1승에 해당하는 점수)\n",
    "\n",
    "pR/W = [{9 * lgRA + IP/GS * RA + (9 - IP/GS) * lgRA} / 18 + 2] * 1.5\n",
    "\n",
    "lgRA : 경기당 리그평균실점\n",
    "\n",
    "IP/GS : 경기당 이닝 \n",
    "\n",
    "#### 3.1.3) 피타고리안 기대승률(W%)\n",
    "\n",
    "W% = {( lgRA/9 - RA) / pR/W} + .500\n",
    "\n",
    "#### 3.1.4) 대체선수대비 기대 승률\n",
    "\n",
    "대체선수대비 기대 승률 = W% - 0.325\n",
    "\n",
    "0.325는 KBO상황을 대입하여 결정한 계수\n",
    "\n",
    "\n",
    "#### 3.1.5) fWAR\n",
    "\n",
    "fWAR = (대체 선수 대비 기대 승률) * IP/GS\n",
    "\n",
    "\n",
    "http://www.kbreport.com/common/statDic/pitchingWAR\n",
    "http://ko.yagongso.wikidok.net/wp-d/5a0dc4e49adb37e77efe2267/View\n"
   ]
  },
  {
   "cell_type": "markdown",
   "metadata": {},
   "source": [
    "#### 3.1.1) RA(평균실점)"
   ]
  },
  {
   "cell_type": "code",
   "execution_count": 61,
   "metadata": {},
   "outputs": [
    {
     "name": "stdout",
     "output_type": "stream",
     "text": [
      "lgRA =  4.197607178464606\n",
      "lgERA =  3.119042871385843\n",
      "RAscale =  0.7430525865754597\n"
     ]
    }
   ],
   "source": [
    "#리그평균실점(lgRA), 평균자책점(lgERA), RAscale\n",
    "\n",
    "lgRA = np.sum(pitcher['실점']) / (np.sum(pitcher['이닝'] / 9))\n",
    "lgERA = np.sum(pitcher['자책']) / (np.sum(pitcher['이닝'] / 9))\n",
    "RAscale = lgERA / lgRA\n",
    "\n",
    "print('lgRA = ',lgRA)\n",
    "print('lgERA = ',lgERA)\n",
    "print('RAscale = ',RAscale)"
   ]
  },
  {
   "cell_type": "code",
   "execution_count": 62,
   "metadata": {},
   "outputs": [],
   "source": [
    "pitcher['RA'] = pitcher.apply(lambda x: x[20]/RAscale, axis=1)\n",
    "pitcher['RA'] = round(pitcher['RA'],3)"
   ]
  },
  {
   "cell_type": "markdown",
   "metadata": {},
   "source": [
    "#### 3.1.2) pR/W(1승에 해당하는 점수)"
   ]
  },
  {
   "cell_type": "code",
   "execution_count": 63,
   "metadata": {},
   "outputs": [],
   "source": [
    "pitcher['pR/W'] = pitcher.apply(lambda x: ((9 * lgRA + (x[6]/9) * (x[20] / RAscale) + (9 - (x[6]/x[2])) * lgRA) / 18 + 2) * 1.5, axis=1 )\n",
    "pitcher['pR/W'] = round(pitcher['pR/W'],3)"
   ]
  },
  {
   "cell_type": "markdown",
   "metadata": {},
   "source": [
    "#### 3.1.3) 피타고리안 기대승률(W%)"
   ]
  },
  {
   "cell_type": "code",
   "execution_count": 64,
   "metadata": {},
   "outputs": [],
   "source": [
    "pitcher['W%'] = pitcher.apply(lambda x: ((lgRA - x[21]) / x[22]) + .500, axis=1 )\n",
    "pitcher['W%'] = round(pitcher['W%'],3)"
   ]
  },
  {
   "cell_type": "markdown",
   "metadata": {},
   "source": [
    "#### 3.1.4) 대체선수대비 기대승률(wW%)"
   ]
  },
  {
   "cell_type": "code",
   "execution_count": 65,
   "metadata": {},
   "outputs": [],
   "source": [
    "pitcher['wW%'] = pitcher.apply(lambda x: x[23] - .325, axis=1 )\n",
    "pitcher['wW%'] = round(pitcher['wW%'],3)"
   ]
  },
  {
   "cell_type": "markdown",
   "metadata": {},
   "source": [
    "#### 3.1.5) Pitcher WAR(fWAR)"
   ]
  },
  {
   "cell_type": "code",
   "execution_count": 66,
   "metadata": {},
   "outputs": [
    {
     "data": {
      "text/html": [
       "<div>\n",
       "<style scoped>\n",
       "    .dataframe tbody tr th:only-of-type {\n",
       "        vertical-align: middle;\n",
       "    }\n",
       "\n",
       "    .dataframe tbody tr th {\n",
       "        vertical-align: top;\n",
       "    }\n",
       "\n",
       "    .dataframe thead th {\n",
       "        text-align: right;\n",
       "    }\n",
       "</style>\n",
       "<table border=\"1\" class=\"dataframe\">\n",
       "  <thead>\n",
       "    <tr style=\"text-align: right;\">\n",
       "      <th></th>\n",
       "      <th>순위</th>\n",
       "      <th>이름(팀명)</th>\n",
       "      <th>경기</th>\n",
       "      <th>승</th>\n",
       "      <th>패</th>\n",
       "      <th>세이브</th>\n",
       "      <th>이닝</th>\n",
       "      <th>타자</th>\n",
       "      <th>타수</th>\n",
       "      <th>피안타</th>\n",
       "      <th>...</th>\n",
       "      <th>자책</th>\n",
       "      <th>투구</th>\n",
       "      <th>S</th>\n",
       "      <th>방어율</th>\n",
       "      <th>FIP</th>\n",
       "      <th>RA</th>\n",
       "      <th>pR/W</th>\n",
       "      <th>W%</th>\n",
       "      <th>wW%</th>\n",
       "      <th>fWAR</th>\n",
       "    </tr>\n",
       "  </thead>\n",
       "  <tbody>\n",
       "    <tr>\n",
       "      <th>6</th>\n",
       "      <td>1</td>\n",
       "      <td>최민준(경남고)</td>\n",
       "      <td>30</td>\n",
       "      <td>11</td>\n",
       "      <td>1</td>\n",
       "      <td>0</td>\n",
       "      <td>81.0</td>\n",
       "      <td>315</td>\n",
       "      <td>279</td>\n",
       "      <td>42</td>\n",
       "      <td>...</td>\n",
       "      <td>10</td>\n",
       "      <td>1148</td>\n",
       "      <td>0</td>\n",
       "      <td>1.111</td>\n",
       "      <td>1.617</td>\n",
       "      <td>2.176</td>\n",
       "      <td>9.984</td>\n",
       "      <td>0.702</td>\n",
       "      <td>0.377</td>\n",
       "      <td>3.393</td>\n",
       "    </tr>\n",
       "    <tr>\n",
       "      <th>53</th>\n",
       "      <td>2</td>\n",
       "      <td>김재균(충암고)</td>\n",
       "      <td>25</td>\n",
       "      <td>11</td>\n",
       "      <td>0</td>\n",
       "      <td>0</td>\n",
       "      <td>115.2</td>\n",
       "      <td>476</td>\n",
       "      <td>407</td>\n",
       "      <td>92</td>\n",
       "      <td>...</td>\n",
       "      <td>29</td>\n",
       "      <td>1825</td>\n",
       "      <td>0</td>\n",
       "      <td>2.257</td>\n",
       "      <td>2.422</td>\n",
       "      <td>3.260</td>\n",
       "      <td>11.161</td>\n",
       "      <td>0.584</td>\n",
       "      <td>0.259</td>\n",
       "      <td>3.315</td>\n",
       "    </tr>\n",
       "    <tr>\n",
       "      <th>14</th>\n",
       "      <td>3</td>\n",
       "      <td>신민혁(야탑고)</td>\n",
       "      <td>23</td>\n",
       "      <td>8</td>\n",
       "      <td>3</td>\n",
       "      <td>0</td>\n",
       "      <td>81.2</td>\n",
       "      <td>307</td>\n",
       "      <td>281</td>\n",
       "      <td>49</td>\n",
       "      <td>...</td>\n",
       "      <td>13</td>\n",
       "      <td>1090</td>\n",
       "      <td>0</td>\n",
       "      <td>1.433</td>\n",
       "      <td>1.756</td>\n",
       "      <td>2.363</td>\n",
       "      <td>9.838</td>\n",
       "      <td>0.686</td>\n",
       "      <td>0.361</td>\n",
       "      <td>3.257</td>\n",
       "    </tr>\n",
       "    <tr>\n",
       "      <th>117</th>\n",
       "      <td>4</td>\n",
       "      <td>윤강찬(김해고)</td>\n",
       "      <td>13</td>\n",
       "      <td>4</td>\n",
       "      <td>4</td>\n",
       "      <td>0</td>\n",
       "      <td>66.1</td>\n",
       "      <td>276</td>\n",
       "      <td>247</td>\n",
       "      <td>64</td>\n",
       "      <td>...</td>\n",
       "      <td>26</td>\n",
       "      <td>994</td>\n",
       "      <td>0</td>\n",
       "      <td>3.529</td>\n",
       "      <td>1.420</td>\n",
       "      <td>1.911</td>\n",
       "      <td>8.687</td>\n",
       "      <td>0.763</td>\n",
       "      <td>0.438</td>\n",
       "      <td>3.217</td>\n",
       "    </tr>\n",
       "    <tr>\n",
       "      <th>104</th>\n",
       "      <td>5</td>\n",
       "      <td>김범수(율곡고)</td>\n",
       "      <td>25</td>\n",
       "      <td>8</td>\n",
       "      <td>2</td>\n",
       "      <td>0</td>\n",
       "      <td>87.1</td>\n",
       "      <td>350</td>\n",
       "      <td>316</td>\n",
       "      <td>79</td>\n",
       "      <td>...</td>\n",
       "      <td>32</td>\n",
       "      <td>1273</td>\n",
       "      <td>0</td>\n",
       "      <td>3.299</td>\n",
       "      <td>1.932</td>\n",
       "      <td>2.600</td>\n",
       "      <td>10.175</td>\n",
       "      <td>0.657</td>\n",
       "      <td>0.332</td>\n",
       "      <td>3.213</td>\n",
       "    </tr>\n",
       "  </tbody>\n",
       "</table>\n",
       "<p>5 rows × 26 columns</p>\n",
       "</div>"
      ],
      "text/plain": [
       "     순위    이름(팀명)  경기   승  패  세이브     이닝   타자   타수  피안타  ...    자책    투구  S  \\\n",
       "6     1  최민준(경남고)  30  11  1    0   81.0  315  279   42  ...    10  1148  0   \n",
       "53    2  김재균(충암고)  25  11  0    0  115.2  476  407   92  ...    29  1825  0   \n",
       "14    3  신민혁(야탑고)  23   8  3    0   81.2  307  281   49  ...    13  1090  0   \n",
       "117   4  윤강찬(김해고)  13   4  4    0   66.1  276  247   64  ...    26   994  0   \n",
       "104   5  김범수(율곡고)  25   8  2    0   87.1  350  316   79  ...    32  1273  0   \n",
       "\n",
       "       방어율    FIP     RA    pR/W     W%    wW%   fWAR  \n",
       "6    1.111  1.617  2.176   9.984  0.702  0.377  3.393  \n",
       "53   2.257  2.422  3.260  11.161  0.584  0.259  3.315  \n",
       "14   1.433  1.756  2.363   9.838  0.686  0.361  3.257  \n",
       "117  3.529  1.420  1.911   8.687  0.763  0.438  3.217  \n",
       "104  3.299  1.932  2.600  10.175  0.657  0.332  3.213  \n",
       "\n",
       "[5 rows x 26 columns]"
      ]
     },
     "execution_count": 66,
     "metadata": {},
     "output_type": "execute_result"
    }
   ],
   "source": [
    "#fWAR = (대체 선수 대비 기대 승률) * IP/GS\n",
    "pitcher['fWAR'] = pitcher.apply(lambda x: x[24] * (x[6]/9), axis=1 )\n",
    "pitcher['fWAR'] = round(pitcher['fWAR'],3)\n",
    "\n",
    "#rerank by fWAR\n",
    "pitcher = pitcher.sort_values(by='fWAR',ascending=False)\n",
    "pitcher['순위'] = pitcher['fWAR'].rank(ascending=False)\n",
    "pitcher['순위'] = pitcher['순위'].astype(int)\n",
    "\n",
    "pitcher.head()"
   ]
  },
  {
   "cell_type": "markdown",
   "metadata": {},
   "source": [
    "fWAR을 기준으로 했을때 **최민준,신민혁,김범수,윤강찬,이승헌** 순으로 정상급 투수들로 분류되었다. \n",
    "\n",
    "MLB WAR 스케일의 기준으로는 Solid Player 혹은 Good Player 수준으로 분류 되었다.\n",
    "\n",
    "하지만 위 자료의 MLB의 기준이므로 보정의 필요가 있다.\n",
    "\n",
    "Ref: https://namu.wiki/w/WAR"
   ]
  },
  {
   "cell_type": "markdown",
   "metadata": {},
   "source": [
    "### 3.2) 타자의 WAR은 wOBA를 기준으로 설정한다\n",
    "\n",
    "#### 3.2.1) Batting RAR(Runs Above Replacement level)\n",
    "    \n",
    "- wRAA = ((wOBA - 리그평균 wOBA) / wOBA Scale) * 타석\n",
    "* RAR = RAA + 20 (PA / 600)\n",
    "\n",
    "\n",
    "wOBA를 출루율 스케일로 나타내기 위해 각 이벤트(볼넷, HBP, 1루타, 2루타, 3루타, 홈런)에 곱하는 값. 이 역시 매 시즌 값이 변경되며 2012시즌 wOBA스케일은 1.245다. wOBA를 구할때 인위적으로 곱했기 때문에 다시 나누는 것. 참고로 이것도 톰 탱고의 The Book에 나온 오리지날 수치가 있는데 바로 1.15다\n",
    "\n",
    "- RAR = 타격에서의 기여도(BRAR)\n",
    "\n",
    "해당 지표에서는 타격에 대한 기여도만 고려할 수 있는 상황으로 나머지 지표는 제외한다.<br>\n",
    "(기존은 RAR = (타격에서의 기여도(BRAR)) + (수비에서의 기여도) + (포지션에 따른 조정) + (주루에서의 기여도))\n",
    "\n",
    "\n",
    "#### 3.2.2) WAR = RAR / 10  \n",
    "\n",
    "- (R/W) 이 경우 R/W은 1승에 해당하는 득점을 10으로 통일한다)<br>\n",
    "   \n",
    "http://www.kbreport.com/common/statDic/positionPlayerWAR"
   ]
  },
  {
   "cell_type": "markdown",
   "metadata": {},
   "source": [
    "#### 3.2) Hitter WAR"
   ]
  },
  {
   "cell_type": "code",
   "execution_count": 67,
   "metadata": {},
   "outputs": [],
   "source": [
    "#리그평균 wOBA구하기\n",
    "hitter['lgwOBA'] = np.mean(hitter['wOBA'])\n",
    "hitter['lgwOBA'] = round(hitter['lgwOBA'], 3)"
   ]
  },
  {
   "cell_type": "code",
   "execution_count": 68,
   "metadata": {},
   "outputs": [
    {
     "data": {
      "text/html": [
       "<div>\n",
       "<style scoped>\n",
       "    .dataframe tbody tr th:only-of-type {\n",
       "        vertical-align: middle;\n",
       "    }\n",
       "\n",
       "    .dataframe tbody tr th {\n",
       "        vertical-align: top;\n",
       "    }\n",
       "\n",
       "    .dataframe thead th {\n",
       "        text-align: right;\n",
       "    }\n",
       "</style>\n",
       "<table border=\"1\" class=\"dataframe\">\n",
       "  <thead>\n",
       "    <tr style=\"text-align: right;\">\n",
       "      <th></th>\n",
       "      <th>순위</th>\n",
       "      <th>이름</th>\n",
       "      <th>경기</th>\n",
       "      <th>타율</th>\n",
       "      <th>타석</th>\n",
       "      <th>타수</th>\n",
       "      <th>안타</th>\n",
       "      <th>단타</th>\n",
       "      <th>2루타</th>\n",
       "      <th>3루타</th>\n",
       "      <th>...</th>\n",
       "      <th>타점</th>\n",
       "      <th>득점</th>\n",
       "      <th>사사구</th>\n",
       "      <th>삼진</th>\n",
       "      <th>출루율</th>\n",
       "      <th>장타율</th>\n",
       "      <th>도루</th>\n",
       "      <th>wOBA</th>\n",
       "      <th>lgwOBA</th>\n",
       "      <th>WAR</th>\n",
       "    </tr>\n",
       "  </thead>\n",
       "  <tbody>\n",
       "    <tr>\n",
       "      <th>8</th>\n",
       "      <td>1</td>\n",
       "      <td>강백호(서울고)</td>\n",
       "      <td>31</td>\n",
       "      <td>0.434</td>\n",
       "      <td>133</td>\n",
       "      <td>106</td>\n",
       "      <td>46</td>\n",
       "      <td>30</td>\n",
       "      <td>13</td>\n",
       "      <td>0</td>\n",
       "      <td>...</td>\n",
       "      <td>34</td>\n",
       "      <td>37</td>\n",
       "      <td>27</td>\n",
       "      <td>10</td>\n",
       "      <td>0.549</td>\n",
       "      <td>0.642</td>\n",
       "      <td>10</td>\n",
       "      <td>0.649</td>\n",
       "      <td>0.427</td>\n",
       "      <td>3.011</td>\n",
       "    </tr>\n",
       "    <tr>\n",
       "      <th>23</th>\n",
       "      <td>2</td>\n",
       "      <td>김민기(덕수고)</td>\n",
       "      <td>30</td>\n",
       "      <td>0.393</td>\n",
       "      <td>124</td>\n",
       "      <td>89</td>\n",
       "      <td>35</td>\n",
       "      <td>25</td>\n",
       "      <td>8</td>\n",
       "      <td>1</td>\n",
       "      <td>...</td>\n",
       "      <td>13</td>\n",
       "      <td>27</td>\n",
       "      <td>31</td>\n",
       "      <td>10</td>\n",
       "      <td>0.545</td>\n",
       "      <td>0.539</td>\n",
       "      <td>13</td>\n",
       "      <td>0.660</td>\n",
       "      <td>0.427</td>\n",
       "      <td>2.926</td>\n",
       "    </tr>\n",
       "    <tr>\n",
       "      <th>12</th>\n",
       "      <td>3</td>\n",
       "      <td>최현준(서울고)</td>\n",
       "      <td>31</td>\n",
       "      <td>0.423</td>\n",
       "      <td>141</td>\n",
       "      <td>111</td>\n",
       "      <td>47</td>\n",
       "      <td>38</td>\n",
       "      <td>6</td>\n",
       "      <td>3</td>\n",
       "      <td>...</td>\n",
       "      <td>25</td>\n",
       "      <td>40</td>\n",
       "      <td>28</td>\n",
       "      <td>13</td>\n",
       "      <td>0.536</td>\n",
       "      <td>0.532</td>\n",
       "      <td>20</td>\n",
       "      <td>0.603</td>\n",
       "      <td>0.427</td>\n",
       "      <td>2.628</td>\n",
       "    </tr>\n",
       "    <tr>\n",
       "      <th>2</th>\n",
       "      <td>4</td>\n",
       "      <td>배지환(경북고)</td>\n",
       "      <td>27</td>\n",
       "      <td>0.474</td>\n",
       "      <td>120</td>\n",
       "      <td>95</td>\n",
       "      <td>45</td>\n",
       "      <td>36</td>\n",
       "      <td>3</td>\n",
       "      <td>5</td>\n",
       "      <td>...</td>\n",
       "      <td>17</td>\n",
       "      <td>31</td>\n",
       "      <td>20</td>\n",
       "      <td>10</td>\n",
       "      <td>0.556</td>\n",
       "      <td>0.642</td>\n",
       "      <td>30</td>\n",
       "      <td>0.638</td>\n",
       "      <td>0.427</td>\n",
       "      <td>2.602</td>\n",
       "    </tr>\n",
       "    <tr>\n",
       "      <th>63</th>\n",
       "      <td>5</td>\n",
       "      <td>김다운(율곡고)</td>\n",
       "      <td>25</td>\n",
       "      <td>0.353</td>\n",
       "      <td>115</td>\n",
       "      <td>85</td>\n",
       "      <td>30</td>\n",
       "      <td>18</td>\n",
       "      <td>8</td>\n",
       "      <td>4</td>\n",
       "      <td>...</td>\n",
       "      <td>14</td>\n",
       "      <td>34</td>\n",
       "      <td>29</td>\n",
       "      <td>7</td>\n",
       "      <td>0.518</td>\n",
       "      <td>0.541</td>\n",
       "      <td>4</td>\n",
       "      <td>0.631</td>\n",
       "      <td>0.427</td>\n",
       "      <td>2.423</td>\n",
       "    </tr>\n",
       "  </tbody>\n",
       "</table>\n",
       "<p>5 rows × 21 columns</p>\n",
       "</div>"
      ],
      "text/plain": [
       "    순위        이름  경기     타율   타석   타수  안타  단타  2루타  3루타  ...    타점  득점  사사구  \\\n",
       "8    1  강백호(서울고)  31  0.434  133  106  46  30   13    0  ...    34  37   27   \n",
       "23   2  김민기(덕수고)  30  0.393  124   89  35  25    8    1  ...    13  27   31   \n",
       "12   3  최현준(서울고)  31  0.423  141  111  47  38    6    3  ...    25  40   28   \n",
       "2    4  배지환(경북고)  27  0.474  120   95  45  36    3    5  ...    17  31   20   \n",
       "63   5  김다운(율곡고)  25  0.353  115   85  30  18    8    4  ...    14  34   29   \n",
       "\n",
       "    삼진    출루율    장타율  도루   wOBA  lgwOBA    WAR  \n",
       "8   10  0.549  0.642  10  0.649   0.427  3.011  \n",
       "23  10  0.545  0.539  13  0.660   0.427  2.926  \n",
       "12  13  0.536  0.532  20  0.603   0.427  2.628  \n",
       "2   10  0.556  0.642  30  0.638   0.427  2.602  \n",
       "63   7  0.518  0.541   4  0.631   0.427  2.423  \n",
       "\n",
       "[5 rows x 21 columns]"
      ]
     },
     "execution_count": 68,
     "metadata": {},
     "output_type": "execute_result"
    }
   ],
   "source": [
    "hitter['WAR'] = hitter.apply(lambda x: (( (((x[18] - x[19]) / 1.15) * x[4]) + (20 * x[4] / 600)) / 10), axis=1)\n",
    "hitter = hitter.sort_values(by='WAR',ascending=False)\n",
    "\n",
    "hitter['WAR'] = round(hitter['WAR'], 3)\n",
    "\n",
    "#rerank by fWAR\n",
    "hitter = hitter.sort_values(by='WAR',ascending=False)\n",
    "hitter['순위'] = hitter['WAR'].rank(ascending=False)\n",
    "hitter['순위'] = hitter['순위'].astype(int)\n",
    "\n",
    "hitter.head()"
   ]
  },
  {
   "cell_type": "markdown",
   "metadata": {},
   "source": [
    "**강백호, 김민기, 최현준, 배지환, 김다운** 순으로 위 기준에서 **좋은 야수**로 분리된다\n",
    "\n",
    "그러나 이는 KBO기준이므로 상대적으로 경기가 적은 고교야구에서는 WAR기준을 낮출 필요가 있다.\n",
    "\n",
    "Ref : http://www.kbreport.com/common/statDic/positionPlayerWAR"
   ]
  },
  {
   "cell_type": "markdown",
   "metadata": {},
   "source": [
    "## 4. 2018 KBO 신인 드래프트와의 비교"
   ]
  },
  {
   "cell_type": "markdown",
   "metadata": {},
   "source": [
    "### 4.1 Data Cleaning"
   ]
  },
  {
   "cell_type": "code",
   "execution_count": 69,
   "metadata": {},
   "outputs": [],
   "source": [
    "df_pc = pd.read_csv('draft/pitcher_draft.csv')\n",
    "df_ht = pd.read_csv('draft/hitter_draft.csv')"
   ]
  },
  {
   "cell_type": "markdown",
   "metadata": {},
   "source": [
    "- 비교불필요값 제거(대학선수)"
   ]
  },
  {
   "cell_type": "code",
   "execution_count": 70,
   "metadata": {},
   "outputs": [],
   "source": [
    "df_ht = df_ht[~df_ht.학교.str.endswith('대학교')]\n",
    "df_pc = df_pc[~df_pc.학교.str.endswith('대학교')]"
   ]
  },
  {
   "cell_type": "markdown",
   "metadata": {},
   "source": [
    "- Top 30 재정렬(고교선수 기준)"
   ]
  },
  {
   "cell_type": "code",
   "execution_count": 71,
   "metadata": {},
   "outputs": [],
   "source": [
    "#투수\n",
    "df_pc['순위'] = df_pc['순위'].rank()\n",
    "df_pc['순위'] = df_pc['순위'].astype(int)\n",
    "over30_pc = df_pc[df_pc['순위'] > 30]\n",
    "df_pc = df_pc.drop(over30_pc.index, axis=0)\n",
    "\n",
    "#타자\n",
    "df_ht['순위'] = df_ht['순위'].rank()\n",
    "df_ht['순위'] = df_ht['순위'].astype(int)\n",
    "over30_ht = df_ht[df_ht['순위'] > 30]\n",
    "df_ht = df_ht.drop(over30_ht.index, axis=0)"
   ]
  },
  {
   "cell_type": "code",
   "execution_count": 72,
   "metadata": {},
   "outputs": [
    {
     "data": {
      "text/plain": [
       "(30, 4)"
      ]
     },
     "execution_count": 72,
     "metadata": {},
     "output_type": "execute_result"
    }
   ],
   "source": [
    "df_pc.shape"
   ]
  },
  {
   "cell_type": "markdown",
   "metadata": {},
   "source": [
    "### 4.2 Regex (정규표현식)"
   ]
  },
  {
   "cell_type": "code",
   "execution_count": 73,
   "metadata": {},
   "outputs": [],
   "source": [
    "pitcher['이름'] = pitcher['이름(팀명)']\n",
    "\n",
    "#subtract value in '이름' into '학교'\n",
    "pitcher['학교'] = pitcher.iloc[:,1].str.extract('([^)가-힣]\\w{0,})',expand=False) \n",
    "pitcher['학교'] = pitcher['학교'].map(lambda x: str(x)[1:])\n",
    "\n",
    "hitter['학교'] = hitter.iloc[:,1].str.extract('([^)가-힣]\\w{0,})',expand=False) \n",
    "hitter['학교'] = hitter['학교'].map(lambda x: str(x)[1:])\n",
    "\n",
    "#reorder columns\n",
    "pitcher = pitcher[['순위','이름','학교','FIP','fWAR']]\n",
    "hitter = hitter[['순위','이름','학교','wOBA','WAR']]\n",
    "\n",
    "#rearrange value in 이름(팀명)\n",
    "pitcher['이름'] = pitcher['이름'].str[:3]\n",
    "hitter['이름'] = hitter['이름'].str[:3]"
   ]
  },
  {
   "cell_type": "code",
   "execution_count": 74,
   "metadata": {},
   "outputs": [
    {
     "data": {
      "text/html": [
       "<div>\n",
       "<style scoped>\n",
       "    .dataframe tbody tr th:only-of-type {\n",
       "        vertical-align: middle;\n",
       "    }\n",
       "\n",
       "    .dataframe tbody tr th {\n",
       "        vertical-align: top;\n",
       "    }\n",
       "\n",
       "    .dataframe thead th {\n",
       "        text-align: right;\n",
       "    }\n",
       "</style>\n",
       "<table border=\"1\" class=\"dataframe\">\n",
       "  <thead>\n",
       "    <tr style=\"text-align: right;\">\n",
       "      <th></th>\n",
       "      <th>순위</th>\n",
       "      <th>이름</th>\n",
       "      <th>학교</th>\n",
       "      <th>FIP</th>\n",
       "      <th>fWAR</th>\n",
       "    </tr>\n",
       "  </thead>\n",
       "  <tbody>\n",
       "    <tr>\n",
       "      <th>6</th>\n",
       "      <td>1</td>\n",
       "      <td>최민준</td>\n",
       "      <td>경남고</td>\n",
       "      <td>1.617</td>\n",
       "      <td>3.393</td>\n",
       "    </tr>\n",
       "    <tr>\n",
       "      <th>53</th>\n",
       "      <td>2</td>\n",
       "      <td>김재균</td>\n",
       "      <td>충암고</td>\n",
       "      <td>2.422</td>\n",
       "      <td>3.315</td>\n",
       "    </tr>\n",
       "    <tr>\n",
       "      <th>14</th>\n",
       "      <td>3</td>\n",
       "      <td>신민혁</td>\n",
       "      <td>야탑고</td>\n",
       "      <td>1.756</td>\n",
       "      <td>3.257</td>\n",
       "    </tr>\n",
       "    <tr>\n",
       "      <th>117</th>\n",
       "      <td>4</td>\n",
       "      <td>윤강찬</td>\n",
       "      <td>김해고</td>\n",
       "      <td>1.420</td>\n",
       "      <td>3.217</td>\n",
       "    </tr>\n",
       "    <tr>\n",
       "      <th>104</th>\n",
       "      <td>5</td>\n",
       "      <td>김범수</td>\n",
       "      <td>율곡고</td>\n",
       "      <td>1.932</td>\n",
       "      <td>3.213</td>\n",
       "    </tr>\n",
       "  </tbody>\n",
       "</table>\n",
       "</div>"
      ],
      "text/plain": [
       "     순위   이름   학교    FIP   fWAR\n",
       "6     1  최민준  경남고  1.617  3.393\n",
       "53    2  김재균  충암고  2.422  3.315\n",
       "14    3  신민혁  야탑고  1.756  3.257\n",
       "117   4  윤강찬  김해고  1.420  3.217\n",
       "104   5  김범수  율곡고  1.932  3.213"
      ]
     },
     "execution_count": 74,
     "metadata": {},
     "output_type": "execute_result"
    }
   ],
   "source": [
    "pitcher.head()"
   ]
  },
  {
   "cell_type": "code",
   "execution_count": 75,
   "metadata": {},
   "outputs": [
    {
     "data": {
      "text/html": [
       "<div>\n",
       "<style scoped>\n",
       "    .dataframe tbody tr th:only-of-type {\n",
       "        vertical-align: middle;\n",
       "    }\n",
       "\n",
       "    .dataframe tbody tr th {\n",
       "        vertical-align: top;\n",
       "    }\n",
       "\n",
       "    .dataframe thead th {\n",
       "        text-align: right;\n",
       "    }\n",
       "</style>\n",
       "<table border=\"1\" class=\"dataframe\">\n",
       "  <thead>\n",
       "    <tr style=\"text-align: right;\">\n",
       "      <th></th>\n",
       "      <th>순위</th>\n",
       "      <th>이름</th>\n",
       "      <th>학교</th>\n",
       "      <th>wOBA</th>\n",
       "      <th>WAR</th>\n",
       "    </tr>\n",
       "  </thead>\n",
       "  <tbody>\n",
       "    <tr>\n",
       "      <th>8</th>\n",
       "      <td>1</td>\n",
       "      <td>강백호</td>\n",
       "      <td>서울고</td>\n",
       "      <td>0.649</td>\n",
       "      <td>3.011</td>\n",
       "    </tr>\n",
       "    <tr>\n",
       "      <th>23</th>\n",
       "      <td>2</td>\n",
       "      <td>김민기</td>\n",
       "      <td>덕수고</td>\n",
       "      <td>0.660</td>\n",
       "      <td>2.926</td>\n",
       "    </tr>\n",
       "    <tr>\n",
       "      <th>12</th>\n",
       "      <td>3</td>\n",
       "      <td>최현준</td>\n",
       "      <td>서울고</td>\n",
       "      <td>0.603</td>\n",
       "      <td>2.628</td>\n",
       "    </tr>\n",
       "    <tr>\n",
       "      <th>2</th>\n",
       "      <td>4</td>\n",
       "      <td>배지환</td>\n",
       "      <td>경북고</td>\n",
       "      <td>0.638</td>\n",
       "      <td>2.602</td>\n",
       "    </tr>\n",
       "    <tr>\n",
       "      <th>63</th>\n",
       "      <td>5</td>\n",
       "      <td>김다운</td>\n",
       "      <td>율곡고</td>\n",
       "      <td>0.631</td>\n",
       "      <td>2.423</td>\n",
       "    </tr>\n",
       "  </tbody>\n",
       "</table>\n",
       "</div>"
      ],
      "text/plain": [
       "    순위   이름   학교   wOBA    WAR\n",
       "8    1  강백호  서울고  0.649  3.011\n",
       "23   2  김민기  덕수고  0.660  2.926\n",
       "12   3  최현준  서울고  0.603  2.628\n",
       "2    4  배지환  경북고  0.638  2.602\n",
       "63   5  김다운  율곡고  0.631  2.423"
      ]
     },
     "execution_count": 75,
     "metadata": {},
     "output_type": "execute_result"
    }
   ],
   "source": [
    "hitter.head()"
   ]
  },
  {
   "cell_type": "markdown",
   "metadata": {},
   "source": [
    "### 4.3 매칭 정확도 "
   ]
  },
  {
   "cell_type": "markdown",
   "metadata": {},
   "source": [
    "#### 4.3.1 WAR ( Hitter & Pitcher)"
   ]
  },
  {
   "cell_type": "code",
   "execution_count": 76,
   "metadata": {},
   "outputs": [
    {
     "data": {
      "text/html": [
       "<div>\n",
       "<style scoped>\n",
       "    .dataframe tbody tr th:only-of-type {\n",
       "        vertical-align: middle;\n",
       "    }\n",
       "\n",
       "    .dataframe tbody tr th {\n",
       "        vertical-align: top;\n",
       "    }\n",
       "\n",
       "    .dataframe thead th {\n",
       "        text-align: right;\n",
       "    }\n",
       "</style>\n",
       "<table border=\"1\" class=\"dataframe\">\n",
       "  <thead>\n",
       "    <tr style=\"text-align: right;\">\n",
       "      <th></th>\n",
       "      <th>순위</th>\n",
       "      <th>이름</th>\n",
       "      <th>학교</th>\n",
       "      <th>포지션</th>\n",
       "      <th>선수일치</th>\n",
       "    </tr>\n",
       "  </thead>\n",
       "  <tbody>\n",
       "    <tr>\n",
       "      <th>0</th>\n",
       "      <td>1</td>\n",
       "      <td>강백호</td>\n",
       "      <td>서울고</td>\n",
       "      <td>포수</td>\n",
       "      <td>True</td>\n",
       "    </tr>\n",
       "    <tr>\n",
       "      <th>1</th>\n",
       "      <td>2</td>\n",
       "      <td>김형준</td>\n",
       "      <td>세광고</td>\n",
       "      <td>포수</td>\n",
       "      <td>False</td>\n",
       "    </tr>\n",
       "    <tr>\n",
       "      <th>2</th>\n",
       "      <td>3</td>\n",
       "      <td>이재원</td>\n",
       "      <td>서울고</td>\n",
       "      <td>외야수</td>\n",
       "      <td>True</td>\n",
       "    </tr>\n",
       "  </tbody>\n",
       "</table>\n",
       "</div>"
      ],
      "text/plain": [
       "   순위   이름   학교  포지션   선수일치\n",
       "0   1  강백호  서울고   포수   True\n",
       "1   2  김형준  세광고   포수  False\n",
       "2   3  이재원  서울고  외야수   True"
      ]
     },
     "execution_count": 76,
     "metadata": {},
     "output_type": "execute_result"
    }
   ],
   "source": [
    "df_ht['선수일치'] = df_ht['이름'].isin(hitter['이름'].head(30)).astype(str)\n",
    "df_ht.head(3)"
   ]
  },
  {
   "cell_type": "code",
   "execution_count": 77,
   "metadata": {},
   "outputs": [
    {
     "data": {
      "text/html": [
       "<div>\n",
       "<style scoped>\n",
       "    .dataframe tbody tr th:only-of-type {\n",
       "        vertical-align: middle;\n",
       "    }\n",
       "\n",
       "    .dataframe tbody tr th {\n",
       "        vertical-align: top;\n",
       "    }\n",
       "\n",
       "    .dataframe thead th {\n",
       "        text-align: right;\n",
       "    }\n",
       "</style>\n",
       "<table border=\"1\" class=\"dataframe\">\n",
       "  <thead>\n",
       "    <tr style=\"text-align: right;\">\n",
       "      <th></th>\n",
       "      <th>순위</th>\n",
       "      <th>이름</th>\n",
       "      <th>학교</th>\n",
       "      <th>포지션</th>\n",
       "      <th>선수일치</th>\n",
       "    </tr>\n",
       "  </thead>\n",
       "  <tbody>\n",
       "    <tr>\n",
       "      <th>0</th>\n",
       "      <td>1</td>\n",
       "      <td>양창섭</td>\n",
       "      <td>덕수고</td>\n",
       "      <td>투수</td>\n",
       "      <td>True</td>\n",
       "    </tr>\n",
       "    <tr>\n",
       "      <th>1</th>\n",
       "      <td>2</td>\n",
       "      <td>이승헌</td>\n",
       "      <td>용마고</td>\n",
       "      <td>투수</td>\n",
       "      <td>True</td>\n",
       "    </tr>\n",
       "    <tr>\n",
       "      <th>2</th>\n",
       "      <td>3</td>\n",
       "      <td>이승관</td>\n",
       "      <td>야탑고</td>\n",
       "      <td>투수</td>\n",
       "      <td>False</td>\n",
       "    </tr>\n",
       "  </tbody>\n",
       "</table>\n",
       "</div>"
      ],
      "text/plain": [
       "   순위   이름   학교 포지션   선수일치\n",
       "0   1  양창섭  덕수고  투수   True\n",
       "1   2  이승헌  용마고  투수   True\n",
       "2   3  이승관  야탑고  투수  False"
      ]
     },
     "execution_count": 77,
     "metadata": {},
     "output_type": "execute_result"
    }
   ],
   "source": [
    "df_pc['선수일치'] = df_pc['이름'].isin(pitcher['이름'].head(30)).astype(str)\n",
    "df_pc.head(3)"
   ]
  },
  {
   "cell_type": "markdown",
   "metadata": {},
   "source": [
    "#### Visualization"
   ]
  },
  {
   "cell_type": "code",
   "execution_count": 78,
   "metadata": {},
   "outputs": [
    {
     "data": {
      "text/plain": [
       "<function matplotlib.pyplot.show(*args, **kw)>"
      ]
     },
     "execution_count": 78,
     "metadata": {},
     "output_type": "execute_result"
    },
    {
     "data": {
      "image/png": "[encoded data removed]",
      "text/plain": [
       "<Figure size 432x288 with 1 Axes>"
      ]
     },
     "metadata": {},
     "output_type": "display_data"
    }
   ],
   "source": [
    "#count data pitcher\n",
    "partial_count = pd.value_counts(df_ht['선수일치'])\n",
    "partial_true = partial_count[\"True\"]\n",
    "partial_false = partial_count[\"False\"]\n",
    "\n",
    "#pie graph\n",
    "names = \"Match\", \"Mismatch\"\n",
    "size_partial = [partial_true,partial_false]\n",
    "\n",
    "#import library\n",
    "import matplotlib.pyplot as pyplt\n",
    "\n",
    "pyplt.pie(size_partial, labels = names, autopct='%.1f%%',wedgeprops = { 'linewidth' : 7, 'edgecolor' : 'white' } )\n",
    "pyplt.title(\"Top 30 Draft - Partial Match and Mismatch <Hitter> by WAR\")\n",
    "\n",
    "circle = pyplt.Circle ( (0,0), 0.7, color = \"white\")\n",
    "p = pyplt.gcf()\n",
    "p.gca().add_artist(circle)\n",
    "\n",
    "pyplt.show"
   ]
  },
  {
   "cell_type": "code",
   "execution_count": 79,
   "metadata": {},
   "outputs": [
    {
     "data": {
      "text/plain": [
       "<function matplotlib.pyplot.show(*args, **kw)>"
      ]
     },
     "execution_count": 79,
     "metadata": {},
     "output_type": "execute_result"
    },
    {
     "data": {
      "image/png": "[encoded data removed]",
      "text/plain": [
       "<Figure size 432x288 with 1 Axes>"
      ]
     },
     "metadata": {},
     "output_type": "display_data"
    }
   ],
   "source": [
    "#count data pitcher\n",
    "partial_count = pd.value_counts(df_pc['선수일치'])\n",
    "partial_true = partial_count[\"True\"]\n",
    "partial_false = partial_count[\"False\"]\n",
    "\n",
    "#pie graph\n",
    "names = \"Match\", \"Mismatch\"\n",
    "size_partial = [partial_true,partial_false]\n",
    "\n",
    "#import library\n",
    "import matplotlib.pyplot as pyplt\n",
    "\n",
    "pyplt.pie(size_partial, labels = names, autopct='%.1f%%',wedgeprops = { 'linewidth' : 7, 'edgecolor' : 'white' } )\n",
    "pyplt.title(\"Top 30 Draft - Partial Match and Mismatch <Pitcher> by WAR\")\n",
    "\n",
    "circle = pyplt.Circle ( (0,0), 0.7, color = \"white\")\n",
    "p = pyplt.gcf()\n",
    "p.gca().add_artist(circle)\n",
    "\n",
    "pyplt.show"
   ]
  },
  {
   "cell_type": "markdown",
   "metadata": {},
   "source": [
    "#### 4.3.2 woBA(Hitter) & FIP(Pitcher)"
   ]
  },
  {
   "cell_type": "code",
   "execution_count": 80,
   "metadata": {},
   "outputs": [
    {
     "data": {
      "text/html": [
       "<div>\n",
       "<style scoped>\n",
       "    .dataframe tbody tr th:only-of-type {\n",
       "        vertical-align: middle;\n",
       "    }\n",
       "\n",
       "    .dataframe tbody tr th {\n",
       "        vertical-align: top;\n",
       "    }\n",
       "\n",
       "    .dataframe thead th {\n",
       "        text-align: right;\n",
       "    }\n",
       "</style>\n",
       "<table border=\"1\" class=\"dataframe\">\n",
       "  <thead>\n",
       "    <tr style=\"text-align: right;\">\n",
       "      <th></th>\n",
       "      <th>순위</th>\n",
       "      <th>이름</th>\n",
       "      <th>학교</th>\n",
       "      <th>포지션</th>\n",
       "      <th>선수일치</th>\n",
       "    </tr>\n",
       "  </thead>\n",
       "  <tbody>\n",
       "    <tr>\n",
       "      <th>0</th>\n",
       "      <td>1</td>\n",
       "      <td>강백호</td>\n",
       "      <td>서울고</td>\n",
       "      <td>포수</td>\n",
       "      <td>True</td>\n",
       "    </tr>\n",
       "    <tr>\n",
       "      <th>1</th>\n",
       "      <td>2</td>\n",
       "      <td>김형준</td>\n",
       "      <td>세광고</td>\n",
       "      <td>포수</td>\n",
       "      <td>False</td>\n",
       "    </tr>\n",
       "    <tr>\n",
       "      <th>2</th>\n",
       "      <td>3</td>\n",
       "      <td>이재원</td>\n",
       "      <td>서울고</td>\n",
       "      <td>외야수</td>\n",
       "      <td>False</td>\n",
       "    </tr>\n",
       "  </tbody>\n",
       "</table>\n",
       "</div>"
      ],
      "text/plain": [
       "   순위   이름   학교  포지션   선수일치\n",
       "0   1  강백호  서울고   포수   True\n",
       "1   2  김형준  세광고   포수  False\n",
       "2   3  이재원  서울고  외야수  False"
      ]
     },
     "execution_count": 80,
     "metadata": {},
     "output_type": "execute_result"
    }
   ],
   "source": [
    "#rerank hitter order by wOBA\n",
    "woba_ht = hitter.sort_values(by='wOBA',ascending=False)\n",
    "woba_ht['순위'] = woba_ht['wOBA'].rank(ascending=False)\n",
    "woba_ht['순위'] = woba_ht['순위'].astype(int)\n",
    "\n",
    "#match player's name\n",
    "df_ht['선수일치'] = df_ht['이름'].isin(woba_ht['이름'].head(30)).astype(str)\n",
    "df_ht.head(3)"
   ]
  },
  {
   "cell_type": "code",
   "execution_count": 81,
   "metadata": {},
   "outputs": [
    {
     "data": {
      "text/plain": [
       "<function matplotlib.pyplot.show(*args, **kw)>"
      ]
     },
     "execution_count": 81,
     "metadata": {},
     "output_type": "execute_result"
    },
    {
     "data": {
      "image/png": "[encoded data removed]",
      "text/plain": [
       "<Figure size 432x288 with 1 Axes>"
      ]
     },
     "metadata": {},
     "output_type": "display_data"
    }
   ],
   "source": [
    "#count data hitter based on wOBA\n",
    "partial_count = pd.value_counts(df_ht['선수일치'])\n",
    "partial_true = partial_count[\"True\"]\n",
    "partial_false = partial_count[\"False\"]\n",
    "\n",
    "#pie graph\n",
    "names = \"Match\", \"Mismatch\"\n",
    "size_partial = [partial_true,partial_false]\n",
    "\n",
    "#import library\n",
    "import matplotlib.pyplot as plt\n",
    "\n",
    "plt.pie(size_partial, labels = names, autopct='%.1f%%',wedgeprops = { 'linewidth' : 7, 'edgecolor' : 'white' } )\n",
    "plt.title(\"Top 30 Draft - Partial Match and Mismatch <Hitter> by wOBA\")\n",
    "\n",
    "circle = plt.Circle ( (0,0), 0.7, color = \"white\")\n",
    "p = plt.gcf()\n",
    "p.gca().add_artist(circle)\n",
    "\n",
    "plt.show"
   ]
  },
  {
   "cell_type": "code",
   "execution_count": 88,
   "metadata": {},
   "outputs": [
    {
     "data": {
      "text/html": [
       "<div>\n",
       "<style scoped>\n",
       "    .dataframe tbody tr th:only-of-type {\n",
       "        vertical-align: middle;\n",
       "    }\n",
       "\n",
       "    .dataframe tbody tr th {\n",
       "        vertical-align: top;\n",
       "    }\n",
       "\n",
       "    .dataframe thead th {\n",
       "        text-align: right;\n",
       "    }\n",
       "</style>\n",
       "<table border=\"1\" class=\"dataframe\">\n",
       "  <thead>\n",
       "    <tr style=\"text-align: right;\">\n",
       "      <th></th>\n",
       "      <th>순위</th>\n",
       "      <th>이름</th>\n",
       "      <th>학교</th>\n",
       "      <th>포지션</th>\n",
       "      <th>선수일치</th>\n",
       "    </tr>\n",
       "  </thead>\n",
       "  <tbody>\n",
       "    <tr>\n",
       "      <th>0</th>\n",
       "      <td>1</td>\n",
       "      <td>양창섭</td>\n",
       "      <td>덕수고</td>\n",
       "      <td>투수</td>\n",
       "      <td>True</td>\n",
       "    </tr>\n",
       "    <tr>\n",
       "      <th>1</th>\n",
       "      <td>2</td>\n",
       "      <td>이승헌</td>\n",
       "      <td>용마고</td>\n",
       "      <td>투수</td>\n",
       "      <td>True</td>\n",
       "    </tr>\n",
       "    <tr>\n",
       "      <th>2</th>\n",
       "      <td>3</td>\n",
       "      <td>이승관</td>\n",
       "      <td>야탑고</td>\n",
       "      <td>투수</td>\n",
       "      <td>False</td>\n",
       "    </tr>\n",
       "  </tbody>\n",
       "</table>\n",
       "</div>"
      ],
      "text/plain": [
       "   순위   이름   학교 포지션   선수일치\n",
       "0   1  양창섭  덕수고  투수   True\n",
       "1   2  이승헌  용마고  투수   True\n",
       "2   3  이승관  야탑고  투수  False"
      ]
     },
     "execution_count": 88,
     "metadata": {},
     "output_type": "execute_result"
    }
   ],
   "source": [
    "#rerank pitcher order by wOBA\n",
    "fip_pc = pitcher.sort_values(by='FIP',ascending=True)\n",
    "fip_pc['순위'] = fip_pc['FIP'].rank(ascending=False)\n",
    "fip_pc['순위'] = fip_pc['순위'].astype(int)\n",
    "\n",
    "#match player's name\n",
    "df_pc['선수일치'] = df_pc['이름'].isin(fip_pc['이름'].head(30)).astype(str)\n",
    "df_pc.head(3)"
   ]
  },
  {
   "cell_type": "code",
   "execution_count": 99,
   "metadata": {},
   "outputs": [
    {
     "data": {
      "text/plain": [
       "<function matplotlib.pyplot.show(*args, **kw)>"
      ]
     },
     "execution_count": 99,
     "metadata": {},
     "output_type": "execute_result"
    },
    {
     "data": {
      "image/png": "[encoded data removed]",
      "text/plain": [
       "<Figure size 432x288 with 1 Axes>"
      ]
     },
     "metadata": {},
     "output_type": "display_data"
    }
   ],
   "source": [
    "#count data pitcher based on FIP\n",
    "partial_count = pd.value_counts(df_pc['선수일치'])\n",
    "partial_true = partial_count[\"True\"]\n",
    "partial_false = partial_count[\"False\"]\n",
    "\n",
    "#pie graph\n",
    "names = \"Match\", \"Mismatch\"\n",
    "size_partial = [partial_true,partial_false]\n",
    "\n",
    "#import library\n",
    "import matplotlib.pyplot as plt\n",
    "\n",
    "plt.pie(size_partial, labels = names, autopct='%.1f%%', colors = [dwedgeprops = { 'linewidth' : 7,'edgecolor' : 'white' } )\n",
    "plt.title(\"Top 30 Draft - Partial Match and Mismatch <Pitcher> by FIP\")\n",
    "\n",
    "circle = plt.Circle ( (0,0), 0.7, color = \"white\")\n",
    "p = plt.gcf()\n",
    "p.gca().add_artist(circle)\n",
    "\n",
    "plt.show"
   ]
  }
 ],
 "metadata": {
  "kernelspec": {
   "display_name": "Python 3",
   "language": "python",
   "name": "python3"
  },
  "language_info": {
   "codemirror_mode": {
    "name": "ipython",
    "version": 3
   },
   "file_extension": ".py",
   "mimetype": "text/x-python",
   "name": "python",
   "nbconvert_exporter": "python",
   "pygments_lexer": "ipython3",
   "version": "3.6.5"
  }
 },
 "nbformat": 4,
 "nbformat_minor": 2
}
